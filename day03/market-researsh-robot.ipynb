{
 "cells": [
  {
   "cell_type": "code",
   "execution_count": null,
   "metadata": {},
   "outputs": [],
   "source": [
    "import time #time.sleep()쓰기 위함 \n",
    "from selenium import webdriver  #webdriver 쓰기 위함 \n",
    "from selenium.webdriver.chrome.options import Options  #이 코드라인이 없으면, 에러가 나온다. \n",
    "from selenium.webdriver.common.by import By\n",
    "\n",
    "\n",
    "# 크롬 옵션 headless 모드로 실행\n",
    "options = Options()\n",
    "options.add_argument('--incognito')\n",
    "options.add_argument('--window-size=1080,1080')\n",
    "\n",
    "\n",
    "# 크롬 드라이버 경로 지정\n",
    "driver_path = 'chromedriver'\n",
    "\n",
    "# 크롬 드라이버 객체 생성\n",
    "browser = webdriver.Chrome(executable_path=driver_path, options=options)"
   ]
  },
  {
   "cell_type": "code",
   "execution_count": null,
   "metadata": {},
   "outputs": [],
   "source": [
    "url = 'https://search.naver.com/search.naver?where=news&ie=utf8&sm=nws_hty&query=2%EC%B0%A8%EC%A0%84%EC%A7%80'\n",
    "\n",
    "https://search.naver.com/search.naver?where=news&query=2%EC%B0%A8%EC%A0%84%EC%A7%80&sm=tab_opt&sort=0&photo=0&field=0&pd=4&ds=&de=&docid=&related=0&mynews=0&office_type=0&office_section_code=0&news_office_checked=&nso=so%3Ar%2Cp%3A1d&is_sug_officeid=0\n",
    "\n",
    "browser.get(url)"
   ]
  },
  {
   "attachments": {},
   "cell_type": "markdown",
   "metadata": {},
   "source": [
    "# 크롤링 순서 \n",
    "\n",
    "1. 네이버뉴스에서 키워드 검색\n",
    "\n",
    "1페이지 URL\n",
    "https://search.naver.com/search.naver?where=news&query=2%EC%B0%A8%EC%A0%84%EC%A7%80&sm=tab_opt&sort=0&photo=0&field=0&pd=4&ds=&de=&docid=&related=0&mynews=0&office_type=0&office_section_code=0&news_office_checked=&nso=so%3Ar%2Cp%3A1d&is_sug_officeid=0\n",
    "\n",
    "\n",
    "2페이지 URL\n",
    "https://search.naver.com/search.naver?where=news&sm=tab_pge&query=2%EC%B0%A8%EC%A0%84%EC%A7%80&sort=0&photo=0&field=0&pd=4&ds=2023.04.19.10.50&de=2023.04.20.10.50&cluster_rank=267&mynews=0&office_type=0&office_section_code=0&news_office_checked=&nso=so:r,p:1d,a:all&start=11\n",
    "\n",
    "\n",
    "3페이지 URL\n",
    "https://search.naver.com/search.naver?where=news&sm=tab_pge&query=2%EC%B0%A8%EC%A0%84%EC%A7%80&sort=0&photo=0&field=0&pd=4&ds=2023.04.19.10.51&de=2023.04.20.10.51&cluster_rank=288&mynews=0&office_type=0&office_section_code=0&news_office_checked=&nso=so:r,p:1d,a:all&start=21\n",
    "\n",
    "//*[@id=\"main_pack\"]/div[2]/div/div/a[1]\n",
    "//*[@id=\"main_pack\"]/div[2]/div/div/a[2]\n",
    "//*[@id=\"main_pack\"]/div[2]/div/div/a[3]\n",
    "//*[@id=\"main_pack\"]/div[2]/div/div/a[10] 10페이지\n",
    "//*[@id=\"main_pack\"]/div[2]/div/div/a[5]  10페이지 클릭하면 5 바뀐다. \n",
    "//*[@id=\"main_pack\"]/div[2]/div/div/a[6] 10페이지 클릭후 11페이지\n",
    "\n",
    "2. 1페이지 전부 크롤링\n",
    "\n",
    "\n",
    "3. 5초 휴식\n",
    "\n",
    "\n",
    "4. 2페이지 클릭 => 2페이지 전부 크롤링\n",
    "\n",
    "5. 5초 휴식\n",
    "\n",
    "\n",
    "\n"
   ]
  },
  {
   "attachments": {},
   "cell_type": "markdown",
   "metadata": {},
   "source": [
    "<div class=\"sc_page\"> <a role=\"button\" class=\"btn_prev\" aria-disabled=\"true\"><i class=\"spnew ico_page_arr\">이전</i></a><div class=\"sc_page_inner\"><a href=\"?where=news&amp;sm=tab_pge&amp;query=2%EC%B0%A8%EC%A0%84%EC%A7%80&amp;sort=0&amp;photo=0&amp;field=0&amp;pd=4&amp;ds=2023.04.19.10.47&amp;de=2023.04.20.10.47&amp;cluster_rank=236&amp;mynews=0&amp;office_type=0&amp;office_section_code=0&amp;news_office_checked=&amp;nso=so:r,p:1d,a:all&amp;start=1\" onclick=\"return goOtherCR(this, 'a=nws.paging&amp;r=1&amp;u='+urlencode(urlexpand(this.href)));\" role=\"button\" class=\"btn\" aria-pressed=\"true\">1</a><a href=\"?where=news&amp;sm=tab_pge&amp;query=2%EC%B0%A8%EC%A0%84%EC%A7%80&amp;sort=0&amp;photo=0&amp;field=0&amp;pd=4&amp;ds=2023.04.19.10.47&amp;de=2023.04.20.10.47&amp;cluster_rank=236&amp;mynews=0&amp;office_type=0&amp;office_section_code=0&amp;news_office_checked=&amp;nso=so:r,p:1d,a:all&amp;start=11\" onclick=\"return goOtherCR(this, 'a=nws.paging&amp;r=2&amp;u='+urlencode(urlexpand(this.href)));\" role=\"button\" class=\"btn\" aria-pressed=\"false\">2</a><a href=\"?where=news&amp;sm=tab_pge&amp;query=2%EC%B0%A8%EC%A0%84%EC%A7%80&amp;sort=0&amp;photo=0&amp;field=0&amp;pd=4&amp;ds=2023.04.19.10.47&amp;de=2023.04.20.10.47&amp;cluster_rank=236&amp;mynews=0&amp;office_type=0&amp;office_section_code=0&amp;news_office_checked=&amp;nso=so:r,p:1d,a:all&amp;start=21\" onclick=\"return goOtherCR(this, 'a=nws.paging&amp;r=3&amp;u='+urlencode(urlexpand(this.href)));\" role=\"button\" class=\"btn\" aria-pressed=\"false\">3</a><a href=\"?where=news&amp;sm=tab_pge&amp;query=2%EC%B0%A8%EC%A0%84%EC%A7%80&amp;sort=0&amp;photo=0&amp;field=0&amp;pd=4&amp;ds=2023.04.19.10.47&amp;de=2023.04.20.10.47&amp;cluster_rank=236&amp;mynews=0&amp;office_type=0&amp;office_section_code=0&amp;news_office_checked=&amp;nso=so:r,p:1d,a:all&amp;start=31\" onclick=\"return goOtherCR(this, 'a=nws.paging&amp;r=4&amp;u='+urlencode(urlexpand(this.href)));\" role=\"button\" class=\"btn\" aria-pressed=\"false\">4</a><a href=\"?where=news&amp;sm=tab_pge&amp;query=2%EC%B0%A8%EC%A0%84%EC%A7%80&amp;sort=0&amp;photo=0&amp;field=0&amp;pd=4&amp;ds=2023.04.19.10.47&amp;de=2023.04.20.10.47&amp;cluster_rank=236&amp;mynews=0&amp;office_type=0&amp;office_section_code=0&amp;news_office_checked=&amp;nso=so:r,p:1d,a:all&amp;start=41\" onclick=\"return goOtherCR(this, 'a=nws.paging&amp;r=5&amp;u='+urlencode(urlexpand(this.href)));\" role=\"button\" class=\"btn\" aria-pressed=\"false\">5</a><a href=\"?where=news&amp;sm=tab_pge&amp;query=2%EC%B0%A8%EC%A0%84%EC%A7%80&amp;sort=0&amp;photo=0&amp;field=0&amp;pd=4&amp;ds=2023.04.19.10.47&amp;de=2023.04.20.10.47&amp;cluster_rank=236&amp;mynews=0&amp;office_type=0&amp;office_section_code=0&amp;news_office_checked=&amp;nso=so:r,p:1d,a:all&amp;start=51\" onclick=\"return goOtherCR(this, 'a=nws.paging&amp;r=6&amp;u='+urlencode(urlexpand(this.href)));\" role=\"button\" class=\"btn\" aria-pressed=\"false\">6</a><a href=\"?where=news&amp;sm=tab_pge&amp;query=2%EC%B0%A8%EC%A0%84%EC%A7%80&amp;sort=0&amp;photo=0&amp;field=0&amp;pd=4&amp;ds=2023.04.19.10.47&amp;de=2023.04.20.10.47&amp;cluster_rank=236&amp;mynews=0&amp;office_type=0&amp;office_section_code=0&amp;news_office_checked=&amp;nso=so:r,p:1d,a:all&amp;start=61\" onclick=\"return goOtherCR(this, 'a=nws.paging&amp;r=7&amp;u='+urlencode(urlexpand(this.href)));\" role=\"button\" class=\"btn\" aria-pressed=\"false\">7</a><a href=\"?where=news&amp;sm=tab_pge&amp;query=2%EC%B0%A8%EC%A0%84%EC%A7%80&amp;sort=0&amp;photo=0&amp;field=0&amp;pd=4&amp;ds=2023.04.19.10.47&amp;de=2023.04.20.10.47&amp;cluster_rank=236&amp;mynews=0&amp;office_type=0&amp;office_section_code=0&amp;news_office_checked=&amp;nso=so:r,p:1d,a:all&amp;start=71\" onclick=\"return goOtherCR(this, 'a=nws.paging&amp;r=8&amp;u='+urlencode(urlexpand(this.href)));\" role=\"button\" class=\"btn\" aria-pressed=\"false\">8</a><a href=\"?where=news&amp;sm=tab_pge&amp;query=2%EC%B0%A8%EC%A0%84%EC%A7%80&amp;sort=0&amp;photo=0&amp;field=0&amp;pd=4&amp;ds=2023.04.19.10.47&amp;de=2023.04.20.10.47&amp;cluster_rank=236&amp;mynews=0&amp;office_type=0&amp;office_section_code=0&amp;news_office_checked=&amp;nso=so:r,p:1d,a:all&amp;start=81\" onclick=\"return goOtherCR(this, 'a=nws.paging&amp;r=9&amp;u='+urlencode(urlexpand(this.href)));\" role=\"button\" class=\"btn\" aria-pressed=\"false\">9</a><a href=\"?where=news&amp;sm=tab_pge&amp;query=2%EC%B0%A8%EC%A0%84%EC%A7%80&amp;sort=0&amp;photo=0&amp;field=0&amp;pd=4&amp;ds=2023.04.19.10.47&amp;de=2023.04.20.10.47&amp;cluster_rank=236&amp;mynews=0&amp;office_type=0&amp;office_section_code=0&amp;news_office_checked=&amp;nso=so:r,p:1d,a:all&amp;start=91\" onclick=\"return goOtherCR(this, 'a=nws.paging&amp;r=10&amp;u='+urlencode(urlexpand(this.href)));\" role=\"button\" class=\"btn\" aria-pressed=\"false\">10</a></div><a href=\"?where=news&amp;sm=tab_pge&amp;query=2%EC%B0%A8%EC%A0%84%EC%A7%80&amp;sort=0&amp;photo=0&amp;field=0&amp;pd=4&amp;ds=2023.04.19.10.47&amp;de=2023.04.20.10.47&amp;cluster_rank=236&amp;mynews=0&amp;office_type=0&amp;office_section_code=0&amp;news_office_checked=&amp;nso=so:r,p:1d,a:all&amp;start=11\" role=\"button\" class=\"btn_next\" aria-disabled=\"false\" onclick=\"return goOtherCR(this, 'a=nws.paging&amp;r=2&amp;u='+urlencode(urlexpand(this.href)));\"><i class=\"spnew ico_page_arr\">다음</i></a> </div>\n",
    "\n",
    "위 element는 페이지 크롤링이다. \n",
    "\n",
    "1페이지 완전히 크롤링후, 2페이지로 넘어가는 셀레니움 라이브러리를 이용해서 크롤링을 한다.\n",
    "나의 크롤링 순서는 아래와 같다. \n",
    "\n",
    "1. 아래 URL로 들어간다. \n",
    "2. 아래 URL은 네이버뉴스(네이버전용 탭 키워드검색후 query={}, 옵션을 1일로 설정)\n",
    "url = 'https://search.naver.com/search.naver?where=news&query={}&sm=tab_opt&sort=0&photo=0&field=0&pd=4&ds=&de=&docid=&related=0&mynews=0&office_type=0&office_section_code=0&news_office_checked=&nso=so%3Ar%2Cp%3A1d&is_sug_officeid=0'\n",
    "\n",
    "3. 1페이지를 완전히 크롤링 한다. \n",
    "4. 2페이지를 클릭한다. \n",
    "5. 2페이지를 완전히 크롤링 한다.\n",
    "6. 5초 휴식한다. \n",
    "7.\n",
    "\n"
   ]
  },
  {
   "cell_type": "code",
   "execution_count": null,
   "metadata": {},
   "outputs": [],
   "source": []
  }
 ],
 "metadata": {
  "language_info": {
   "name": "python"
  },
  "orig_nbformat": 4
 },
 "nbformat": 4,
 "nbformat_minor": 2
}
