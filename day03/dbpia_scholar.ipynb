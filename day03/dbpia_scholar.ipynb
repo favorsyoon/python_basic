{
 "cells": [
  {
   "cell_type": "code",
   "execution_count": 5,
   "metadata": {},
   "outputs": [],
   "source": [
    "import time #time.sleep()쓰기 위함 \n",
    "from selenium import webdriver  #webdriver 쓰기 위함 \n",
    "from selenium.webdriver.chrome.options import Options  #이 코드라인이 없으면, 에러가 나온다. \n",
    "from selenium.webdriver.common.by import By\n",
    "\n",
    "\n",
    "# 크롬 옵션 headless 모드로 실행\n",
    "options = Options()\n",
    "options.add_argument('--incognito')\n",
    "options.add_argument('--window-size=1080,1080')\n",
    "\n",
    "\n",
    "# 크롬 드라이버 경로 지정\n",
    "driver_path = 'chromedriver'\n",
    "\n",
    "# 크롬 드라이버 객체 생성\n",
    "browser = webdriver.Chrome(executable_path=driver_path, options=options)"
   ]
  },
  {
   "cell_type": "code",
   "execution_count": 6,
   "metadata": {},
   "outputs": [],
   "source": [
    "url = 'https://www.dbpia.co.kr/search/topSearch?searchOption=all&query=%EC%9D%B8%EA%B3%B5%EC%A7%80%EB%8A%A5'\n",
    "browser.get(url)"
   ]
  },
  {
   "attachments": {},
   "cell_type": "markdown",
   "metadata": {},
   "source": [
    "### 논문 링크 가져오기"
   ]
  },
  {
   "cell_type": "code",
   "execution_count": 7,
   "metadata": {},
   "outputs": [
    {
     "name": "stdout",
     "output_type": "stream",
     "text": [
      "['https://www.dbpia.co.kr/journal/articleDetail?nodeId=NODE11230851', 'https://www.dbpia.co.kr/journal/articleDetail?nodeId=NODE11230843', 'https://www.dbpia.co.kr/journal/articleDetail?nodeId=NODE11230845', 'https://www.dbpia.co.kr/journal/articleDetail?nodeId=NODE11230844', 'https://www.dbpia.co.kr/journal/articleDetail?nodeId=NODE11288340', 'https://www.dbpia.co.kr/journal/articleDetail?nodeId=NODE11231160', 'https://www.dbpia.co.kr/journal/articleDetail?nodeId=NODE11231378', 'https://www.dbpia.co.kr/journal/articleDetail?nodeId=NODE11288024', 'https://www.dbpia.co.kr/journal/articleDetail?nodeId=NODE11231192', 'https://www.dbpia.co.kr/journal/articleDetail?nodeId=NODE11230847', 'https://www.dbpia.co.kr/journal/articleDetail?nodeId=NODE11337935', 'https://www.dbpia.co.kr/journal/articleDetail?nodeId=NODE11230365', 'https://www.dbpia.co.kr/journal/articleDetail?nodeId=NODE11342633', 'https://www.dbpia.co.kr/journal/articleDetail?nodeId=NODE11231818', 'https://www.dbpia.co.kr/journal/articleDetail?nodeId=NODE11225163', 'https://www.dbpia.co.kr/journal/articleDetail?nodeId=NODE11229021', 'https://www.dbpia.co.kr/journal/articleDetail?nodeId=NODE11228571', 'https://www.dbpia.co.kr/journal/articleDetail?nodeId=NODE11228572', 'https://www.dbpia.co.kr/journal/articleDetail?nodeId=NODE11219382', 'https://www.dbpia.co.kr/journal/articleDetail?nodeId=NODE11219168']\n"
     ]
    }
   ],
   "source": [
    "#논문 링크만 쭉 가져오는 코드 \n",
    "#link = browser.find_element(By.CLASS_NAME,'thesis_link').get_attribute('href')\n",
    "datas = browser.find_elements(By.CLASS_NAME, 'thesis__link')\n",
    "\n",
    "detail_url_list = []\n",
    "for i in datas:\n",
    "    detail_url = i.get_attribute('href')\n",
    "    detail_url_list.append(detail_url)\n",
    "\n",
    "print(detail_url_list)\n",
    "\n"
   ]
  },
  {
   "cell_type": "code",
   "execution_count": 8,
   "metadata": {},
   "outputs": [],
   "source": [
    "for link in detail_url_list:\n",
    "    browser.get(link)\n",
    "    time.sleep(3)"
   ]
  },
  {
   "attachments": {},
   "cell_type": "markdown",
   "metadata": {},
   "source": [
    "### 제목 가져오기 "
   ]
  },
  {
   "cell_type": "code",
   "execution_count": 11,
   "metadata": {},
   "outputs": [
    {
     "name": "stdout",
     "output_type": "stream",
     "text": [
      "인공지능 융합교육을 위한 초중등학교 연계형 인공지능 교육 내용체계 개발\n",
      "직업계 고등학교 학생의 인공지능 리터러시 프로그램 개발 및 적용\n",
      "책임윤리 기반의 초등학생을 위한 인공지능 윤리교육 프로그램 개발 및 적용\n",
      "초등 인공지능 교육에서 '생각에 대한 생각' 교육방법의 적용 연구\n",
      "인공지능(AI)의 젠더화된 목소리와 주체화 방식에 대한 사례연구 : 푸코의 장치와 주체화 사유를 중심으로\n",
      "유아교사들의 인공지능(AI)을 활용한 교육과정 운영 경험\n",
      "전장상황에서 이상징후 분석을 위한 인공지능 모델 개발동향 및 발전방향 연구\n",
      "자기 효능감과 위험 지각이 인공지능 추천 시스템의 사용자 경험에 미치는 영향\n",
      "예비·현직초등교사의 앱인벤터 기반의 인공지능 교육 만족도 분석\n",
      "중등 교사를 위한 캡스톤 디자인 수업설계 기반 정보, 수학, 과학 인공지능 융합교육 연수 개발 및 효과 분석\n",
      "수용자관점의 인공지능 인식에 대한 연구\n",
      "인공지능 기반 실시간 감지가 가능한 산불 경보시스템\n",
      "분산형 전원이 연결된 배전계통에서의 분리된 상별 인공지능 모델을 이용한 고장종류 및 고장구간 판별 방법\n",
      "인공지능 기법과 차수 저감 모델을 이용한 익형 유동장 예측\n",
      "국방분야 인공지능 영상감시체계의 시험평가 발전방안 연구\n",
      "인공지능 기술보다 중요한 인공지능 윤리\n",
      "인공지능(AI) 단일법 제정 필요성과 행정법학의 과제\n",
      "인공지능 기반 진단방법 특허에 관한 연구\n",
      "이미지 생성 인공지능(AI) 달리(DALL·E)의 활용 사례 연구\n",
      "유아 인공지능(AI) 관련 연구 동향 분석\n"
     ]
    }
   ],
   "source": [
    "# 제목, 초록*키워드 가져와 보시고, \n",
    "# 다하신분들은 => 3페이지까지도 해보시고요. \n",
    "datas = browser.find_elements(By.CLASS_NAME, 'thesis__link')\n",
    "\n",
    "title_list = []\n",
    "\n",
    "for i in datas:\n",
    "    title = i.find_element(By.TAG_NAME,'h2').text\n",
    "    print(title)\n",
    "    "
   ]
  }
 ],
 "metadata": {
  "kernelspec": {
   "display_name": "base",
   "language": "python",
   "name": "python3"
  },
  "language_info": {
   "codemirror_mode": {
    "name": "ipython",
    "version": 3
   },
   "file_extension": ".py",
   "mimetype": "text/x-python",
   "name": "python",
   "nbconvert_exporter": "python",
   "pygments_lexer": "ipython3",
   "version": "3.10.9"
  },
  "orig_nbformat": 4
 },
 "nbformat": 4,
 "nbformat_minor": 2
}
