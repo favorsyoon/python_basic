{
 "cells": [
  {
   "cell_type": "code",
   "execution_count": null,
   "metadata": {},
   "outputs": [],
   "source": [
    "# 매출 증대\n",
    "# - 데이터 분석가 뽑아놨더니.......??? 역활이 뭐임???\n",
    "# - 데이터 => 매출 증대를 보여주셔야 합니다.\n",
    "# - 고객 분석 => 우리가 서비스가 앱서비스야 => 플레이스토/앱스토어 크롤링해야죠.\n",
    "# - 고객이 뭐가 불만인지 해결해 줘야죠.\n",
    "# - 크롤링을 활용해서 우리회사가 돈을 벌 수 있는 방법이 어떤 것들이 있을까?"
   ]
  },
  {
   "cell_type": "code",
   "execution_count": 15,
   "metadata": {},
   "outputs": [],
   "source": [
    "from selenium import webdriver\n",
    "from selenium.webdriver.common.by import By\n",
    "import time"
   ]
  },
  {
   "cell_type": "code",
   "execution_count": 19,
   "metadata": {},
   "outputs": [],
   "source": [
    "from selenium.webdriver.chrome.options import Options\n",
    "from selenium import webdriver\n",
    "from selenium.webdriver.common.by import By\n",
    "import time\n",
    "\n",
    "options = Options()\n",
    "options.add_argument('--incognito')\n",
    "options.add_argument('--headless')\n",
    "\n",
    "driver_path = 'chromedriver'\n",
    "browser = webdriver.Chrome(executable_path=driver_path, options=options)"
   ]
  },
  {
   "cell_type": "code",
   "execution_count": 20,
   "metadata": {},
   "outputs": [
    {
     "name": "stdout",
     "output_type": "stream",
     "text": [
      "https://play.google.com/store/search?q=배달의민족&c=apps\n"
     ]
    }
   ],
   "source": [
    "# 앱 검색\n",
    "app_name = input(\"댓글을 가져오고자 하는 앱 이름을 입력하세요\")\n",
    "\n",
    "url = \"https://play.google.com/store/search?q={}&c=apps\"\n",
    "\n",
    "search_url = url.format(app_name)\n",
    "print(search_url)\n",
    "browser.get(search_url)"
   ]
  },
  {
   "cell_type": "code",
   "execution_count": null,
   "metadata": {},
   "outputs": [],
   "source": [
    "<a href=\"/store/apps/details?id=com.sampleapp\" class=\"Qfxief\"></a>"
   ]
  },
  {
   "cell_type": "code",
   "execution_count": 21,
   "metadata": {},
   "outputs": [],
   "source": [
    "#앱 링크로 이동 \n",
    "app_url = browser.find_element(By.CLASS_NAME, 'Qfxief').get_attribute('href')\n",
    "browser.get(app_url)"
   ]
  },
  {
   "cell_type": "code",
   "execution_count": null,
   "metadata": {},
   "outputs": [],
   "source": [
    "# 댓글 클릭 => 모달 창이 뜬다.\n",
    "\n",
    "time.sleep(2)\n",
    "browser.find_element(By.XPATH, '//*[@id=\"ow2896\"]/section/header/div/div[2]/button/i').click()"
   ]
  },
  {
   "cell_type": "code",
   "execution_count": 39,
   "metadata": {},
   "outputs": [
    {
     "name": "stdout",
     "output_type": "stream",
     "text": [
      "https://play.google.com/store/search?q=배달의민족&c=apps\n"
     ]
    }
   ],
   "source": [
    "\n",
    "from selenium.webdriver.chrome.options import Options\n",
    "from selenium import webdriver\n",
    "from selenium.webdriver.support.ui import WebDriverWait\n",
    "from selenium.webdriver.support import expected_conditions as EC\n",
    "from selenium.webdriver.common.by import By\n",
    "\n",
    "import time\n",
    "\n",
    "options = Options()\n",
    "options.add_argument('--incognito')\n",
    "# options.add_argument('--headless')\n",
    "\n",
    "driver_path = 'chromedriver'\n",
    "browser = webdriver.Chrome(executable_path=driver_path, options=options)\n",
    "\n",
    "# 앱 검색\n",
    "app_name = input(\"댓글을 가져오고자 하는 앱 이름을 입력하세요\")\n",
    "\n",
    "url = \"https://play.google.com/store/search?q={}&c=apps\"\n",
    "\n",
    "search_url = url.format(app_name)\n",
    "print(search_url)\n",
    "browser.get(search_url)\n",
    "\n",
    "#앱 링크로 이동 \n",
    "app_url = browser.find_element(By.CLASS_NAME, 'Qfxief').get_attribute('href')\n",
    "browser.get(app_url)\n",
    "\n",
    "browser.find_element(By.XPATH, '//*[@id=\"yDmH0d\"]/c-wiz[2]/div/div/div[1]/div[2]/div/div[1]/c-wiz[4]/section/header/div/div[2]/button').click()"
   ]
  },
  {
   "cell_type": "code",
   "execution_count": null,
   "metadata": {},
   "outputs": [],
   "source": [
    "# 모달창 클릭 (목적: 스크롤을 하기 위해서)\n",
    "browser.find_element(By.CLASS_NAME, 'fysCi').click()"
   ]
  },
  {
   "cell_type": "code",
   "execution_count": 3,
   "metadata": {},
   "outputs": [
    {
     "ename": "NameError",
     "evalue": "name 'browser' is not defined",
     "output_type": "error",
     "traceback": [
      "\u001b[1;31m---------------------------------------------------------------------------\u001b[0m",
      "\u001b[1;31mNameError\u001b[0m                                 Traceback (most recent call last)",
      "Cell \u001b[1;32mIn[3], line 1\u001b[0m\n\u001b[1;32m----> 1\u001b[0m modal \u001b[39m=\u001b[39m browser\u001b[39m.\u001b[39mfind_element(By\u001b[39m.\u001b[39mCLASS_NAME, \u001b[39m'\u001b[39m\u001b[39mfysCi\u001b[39m\u001b[39m'\u001b[39m)\n\u001b[0;32m      2\u001b[0m \u001b[39mfor\u001b[39;00m i \u001b[39min\u001b[39;00m \u001b[39mrange\u001b[39m(\u001b[39m3\u001b[39m):\n\u001b[0;32m      3\u001b[0m     browser\u001b[39m.\u001b[39mexecute_script(\u001b[39m\"\u001b[39m\u001b[39marguments[0].scrollTo(0, arguments[0].scrollHeight)\u001b[39m\u001b[39m\"\u001b[39m, modal)\n",
      "\u001b[1;31mNameError\u001b[0m: name 'browser' is not defined"
     ]
    }
   ],
   "source": [
    "modal = browser.find_element(By.CLASS_NAME, 'fysCi')\n",
    "for i in range(3):\n",
    "    browser.execute_script(\"arguments[0].scrollTo(0, arguments[0].scrollHeight)\", modal)\n",
    "    time.sleep(3)"
   ]
  }
 ],
 "metadata": {
  "kernelspec": {
   "display_name": "base",
   "language": "python",
   "name": "python3"
  },
  "language_info": {
   "codemirror_mode": {
    "name": "ipython",
    "version": 3
   },
   "file_extension": ".py",
   "mimetype": "text/x-python",
   "name": "python",
   "nbconvert_exporter": "python",
   "pygments_lexer": "ipython3",
   "version": "3.10.9"
  },
  "orig_nbformat": 4
 },
 "nbformat": 4,
 "nbformat_minor": 2
}
