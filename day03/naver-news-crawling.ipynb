{
 "cells": [
  {
   "cell_type": "code",
   "execution_count": null,
   "metadata": {},
   "outputs": [],
   "source": [
    "!pip install pandas"
   ]
  },
  {
   "cell_type": "code",
   "execution_count": null,
   "metadata": {},
   "outputs": [],
   "source": [
    "<li>\n",
    "\t\t\t\t\t\t<dl>\n",
    "\t\t\t\t\t\t\t\n",
    "\t\t\t\t\t\t\t<dt class=\"photo\">\n",
    "\t\t\t\t\t\t\t\t<a href=\"https://n.news.naver.com/mnews/article/014/0004999232?sid=101\">\n",
    "\t\t\t\t\t\t\t\t <img src=\"https://imgnews.pstatic.net/image/origin/014/2023/04/19/4999232.jpg?type=nf106_72\" width=\"106\" height=\"72\" alt=\"[2023 FIND] 尹대통령 “금융사, 국가 발전 디딤돌 역할해야&quot;\" onerror=\"javascript:this.src='https://ssl.pstatic.net/static.news/image/news/2009/noimage_106x72.png';\">\n",
    "\t\t\t\t\t\t\t\t</a>\n",
    "\t\t\t\t\t\t\t</dt>\n",
    "\t\t\t\t\t\t\t\n",
    "\t\t\t\t\t\t\t\n",
    "\t\t\t\t\t\t\t<dt>\n",
    "\t\t\t\t\t\t\t\t<a href=\"https://n.news.naver.com/mnews/article/014/0004999232?sid=101\">\n",
    "\t\t\t\t\t\t\t\t [2023 FIND] 尹대통령 “금융사, 국가 발전 디딤돌 역할해야\"\n",
    "\t\t\t\t\t\t\t\t</a>\n",
    "\t\t\t\t\t\t\t</dt>\n",
    "\t\t\t\t\t\t\t<dd>\n",
    "\t\t\t\t\t\t\t\t<span class=\"lede\">윤석열 대통령은 19일 “보편적 규범과 다자주의에 기반한 자유무역 체제는 세계 경제의 성장과 인류의 자유 확장에 기여해 온 절대 …</span>\n",
    "\t\t\t\t\t\t\t\t<span class=\"writing\">파이낸셜뉴스</span>\n",
    "\t\t\t\t\t\t\t\t\n",
    "\t\t\t\t\t\t\t\t\t\n",
    "\t\t\t\t\t\t\t\t\t\n",
    "\t\t\t\t\t\t\t\t\t\t\n",
    "\t\t\t\t\t\t\t\t\t\n",
    "\t\t\t\t\t\t\t\t\n",
    "\t\t\t\t\t\t\t\t\n",
    "\t\t\t\t\t\t\t\t\n",
    "\t\t\t\t\t\t\t\t\n",
    "\t\t\t\t\t\t\t\t\t\n",
    "\t\t\t\t\t\t\t\t\t\t\n",
    "\t\t\t\t\t\t\t\t\t\t\t\n",
    "\t\t\t\t\t\t\t\t\t\t\t\t<span class=\"date is_new\">1분전</span>\n",
    "\t\t\t\t\t\t\t\t\t\t\t\n",
    "\t\t\t\t\t\t\t\t\t\t\t\n",
    "\t\t\t\t\t\t\t\t\t\t\n",
    "\t\t\t\t\t\t\t\t\t\n",
    "\t\t\t\t\t\t\t\t\t\n",
    "\t\t\t\t\t\t\t\t\t\n",
    "\t\t\t\t\t\t\t\t\t\n",
    "\t\t\t\t\t\t\t\t\n",
    "\t\t\t\t\t\t\t</dd>\n",
    "\t\t\t\t\t\t</dl>\n",
    "\t\t\t\t\t</li>"
   ]
  },
  {
   "cell_type": "code",
   "execution_count": 1,
   "metadata": {},
   "outputs": [],
   "source": [
    "impot padnas as pd\n",
    "\n",
    "# 할머니\n",
    "table = browser.find_element(By.CLASS_NAME, 'list_body')\n",
    "\n",
    "# 엄마\n",
    "# datas = table.find_elements(By.CLASS_NAME, 'photo') # photo가 없는 경우에는 뉴스 크롤링이 불가함.\n",
    "\n",
    "\n",
    "datas = table.find_elements(By.TAG_NAME, 'li')\n",
    "\n",
    "\n",
    "\n",
    "date_list = [] #엑셀에 저장하기 위해서 \n",
    "for i in datas:\n",
    "    link = i.find_element(By.TAG_NAME, 'a').get_attribute('href')\n",
    "    \n",
    "    title = i.find_element(By.TAG_NAME, 'img')get_attribute('alt')\n",
    "    \n",
    "    content = i.find_element(By.CLASS_NAME, 'lede').text\n",
    "    print(content)\n",
    "    \n",
    "    \n",
    "    data = {\n",
    "        'title' : title,\n",
    "        'content': content,\n",
    "        'link': link\n",
    "        \n",
    "    }\n",
    "    \n",
    "    data_list.append(data)\n",
    "    \n",
    "    \n",
    "df = pd.DataFrame(data_list)\n",
    "df.to_csv('./naver_news.csv',)\n",
    "    \n",
    "data_list"
   ]
  },
  {
   "cell_type": "code",
   "execution_count": null,
   "metadata": {},
   "outputs": [],
   "source": []
  }
 ],
 "metadata": {
  "kernelspec": {
   "display_name": "base",
   "language": "python",
   "name": "python3"
  },
  "language_info": {
   "codemirror_mode": {
    "name": "ipython",
    "version": 3
   },
   "file_extension": ".py",
   "mimetype": "text/x-python",
   "name": "python",
   "nbconvert_exporter": "python",
   "pygments_lexer": "ipython3",
   "version": "3.10.9"
  },
  "orig_nbformat": 4
 },
 "nbformat": 4,
 "nbformat_minor": 2
}
