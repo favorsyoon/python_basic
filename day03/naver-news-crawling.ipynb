{
 "cells": [
  {
   "cell_type": "code",
   "execution_count": 2,
   "metadata": {},
   "outputs": [
    {
     "name": "stdout",
     "output_type": "stream",
     "text": [
      "Requirement already satisfied: pandas in c:\\users\\enter\\miniconda3\\lib\\site-packages (2.0.0)\n",
      "Requirement already satisfied: python-dateutil>=2.8.2 in c:\\users\\enter\\miniconda3\\lib\\site-packages (from pandas) (2.8.2)\n",
      "Requirement already satisfied: tzdata>=2022.1 in c:\\users\\enter\\miniconda3\\lib\\site-packages (from pandas) (2023.3)\n",
      "Requirement already satisfied: pytz>=2020.1 in c:\\users\\enter\\miniconda3\\lib\\site-packages (from pandas) (2023.3)\n",
      "Requirement already satisfied: numpy>=1.21.0 in c:\\users\\enter\\miniconda3\\lib\\site-packages (from pandas) (1.24.2)\n",
      "Requirement already satisfied: six>=1.5 in c:\\users\\enter\\miniconda3\\lib\\site-packages (from python-dateutil>=2.8.2->pandas) (1.16.0)\n"
     ]
    }
   ],
   "source": [
    "!pip install pandas"
   ]
  },
  {
   "cell_type": "code",
   "execution_count": null,
   "metadata": {},
   "outputs": [],
   "source": [
    "<a href=\"https://n.news.naver.com/mnews/article/119/0002704245?sid=101\">\n",
    "\t\t\t\t\t\t\t\t 진옥동 신한금융 회장, 日기관투자자 대상 IR 나서\n",
    "\t\t\t\t\t\t\t\t</a>"
   ]
  },
  {
   "cell_type": "code",
   "execution_count": 5,
   "metadata": {},
   "outputs": [
    {
     "ename": "NameError",
     "evalue": "name 'Options' is not defined",
     "output_type": "error",
     "traceback": [
      "\u001b[1;31m---------------------------------------------------------------------------\u001b[0m",
      "\u001b[1;31mNameError\u001b[0m                                 Traceback (most recent call last)",
      "Cell \u001b[1;32mIn[5], line 9\u001b[0m\n\u001b[0;32m      6\u001b[0m \u001b[39mfrom\u001b[39;00m \u001b[39mselenium\u001b[39;00m\u001b[39m.\u001b[39;00m\u001b[39mwebdriver\u001b[39;00m\u001b[39m.\u001b[39;00m\u001b[39mcommon\u001b[39;00m\u001b[39m.\u001b[39;00m\u001b[39mby\u001b[39;00m \u001b[39mimport\u001b[39;00m By\n\u001b[0;32m      7\u001b[0m \u001b[39mimport\u001b[39;00m \u001b[39mtime\u001b[39;00m\n\u001b[1;32m----> 9\u001b[0m options \u001b[39m=\u001b[39m Options()\n\u001b[0;32m     10\u001b[0m options\u001b[39m.\u001b[39madd_argument(\u001b[39m'\u001b[39m\u001b[39m--incognito\u001b[39m\u001b[39m'\u001b[39m)\n\u001b[0;32m     11\u001b[0m options\u001b[39m.\u001b[39madd_argument(\u001b[39m'\u001b[39m\u001b[39m--headless\u001b[39m\u001b[39m'\u001b[39m)\n",
      "\u001b[1;31mNameError\u001b[0m: name 'Options' is not defined"
     ]
    }
   ],
   "source": [
    "# 뉴스 제목, 뉴스 내용, 언론사\n",
    "\n",
    "# first_content = browser.find_element(By.CLASS_NAME, 'lede').text\n",
    "\n",
    "from selenium import webdriver\n",
    "from selenium.webdriver.common.by import By\n",
    "import time\n",
    "\n",
    "options = Options()\n",
    "options.add_argument('--incognito')\n",
    "options.add_argument('--headless')\n",
    "\n",
    "driver_path = 'chromedriver'\n",
    "driver = webdriver.Chrome(executable_path=driver_path, options=options)\n",
    "\n",
    "url = 'https://news.naver.com/main/list.naver?mode=LS2D&mid=shm&sid1=101&sid2=259'\n",
    "driver.get(url)\n",
    "time.sleep(2)\n",
    "\n",
    "contents = browser.find_elements(By.CLASS_NAME, 'lede')\n",
    "\n",
    "for i in contents:\n",
    "    print(i.text)"
   ]
  },
  {
   "cell_type": "code",
   "execution_count": 1,
   "metadata": {},
   "outputs": [],
   "source": [
    "from selenium import webdriver\n",
    "from selenium.webdriver.common.by import By\n",
    "import time\n",
    "\n",
    "options = Options()\n",
    "options.add_argument('--incognito')\n",
    "options.add_argument('--headless')\n",
    "\n",
    "driver_path = 'chromedriver'\n",
    "driver = webdriver.Chrome(executable_path=driver_path, options=options)\n",
    "\n",
    "url = 'https://news.naver.com/main/list.naver?mode=LS2D&mid=shm&sid1=101&sid2=259'\n",
    "driver.get(url)\n",
    "time.sleep(2)\n",
    "\n",
    "impot padnas as pd\n",
    "\n",
    "# 할머니\n",
    "table = browser.find_element(By.CLASS_NAME, 'list_body')\n",
    "\n",
    "# 엄마\n",
    "# datas = table.find_elements(By.CLASS_NAME, 'photo') # photo가 없는 경우에는 뉴스 크롤링이 불가함.\n",
    "\n",
    "\n",
    "datas = table.find_elements(By.TAG_NAME, 'li')\n",
    "\n",
    "\n",
    "\n",
    "date_list = [] #엑셀에 저장하기 위해서 \n",
    "for i in datas:\n",
    "    link = i.find_element(By.TAG_NAME, 'a').get_attribute('href')\n",
    "    \n",
    "    title = i.find_element(By.TAG_NAME, 'img')get_attribute('alt')\n",
    "    \n",
    "    content = i.find_element(By.CLASS_NAME, 'lede').text\n",
    "    print(content)\n",
    "    \n",
    "    writing = i.find_element(By.CLASS_NAME, 'writing').text\n",
    "    print(writing)\n",
    "    \n",
    "#     data = {\n",
    "#         'title' : title,\n",
    "#         'content': content,\n",
    "#         'link': link\n",
    "        \n",
    "#     }\n",
    "    \n",
    "#     data_list.append(data)\n",
    "    \n",
    "    \n",
    "\n",
    "#     data_list.append(data)\n",
    "\n",
    "# df = pd.DataFrame(data_list)\n",
    "# df.to_csv(\"./naver_news.csv\", encoding=\"utf-8-sig\") # csv파일 저장"
   ]
  },
  {
   "cell_type": "code",
   "execution_count": null,
   "metadata": {},
   "outputs": [],
   "source": []
  }
 ],
 "metadata": {
  "kernelspec": {
   "display_name": "base",
   "language": "python",
   "name": "python3"
  },
  "language_info": {
   "codemirror_mode": {
    "name": "ipython",
    "version": 3
   },
   "file_extension": ".py",
   "mimetype": "text/x-python",
   "name": "python",
   "nbconvert_exporter": "python",
   "pygments_lexer": "ipython3",
   "version": "3.10.9"
  },
  "orig_nbformat": 4
 },
 "nbformat": 4,
 "nbformat_minor": 2
}
