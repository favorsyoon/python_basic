{
 "cells": [
  {
   "attachments": {},
   "cell_type": "markdown",
   "metadata": {},
   "source": [
    "# 네이버 날씨 크롤링 1회독\n"
   ]
  },
  {
   "attachments": {},
   "cell_type": "markdown",
   "metadata": {},
   "source": [
    "## 셀리니움 기본세팅"
   ]
  },
  {
   "cell_type": "code",
   "execution_count": 3,
   "metadata": {},
   "outputs": [
    {
     "name": "stdout",
     "output_type": "stream",
     "text": [
      "Requirement already satisfied: selenium in c:\\users\\enter\\miniconda3\\envs\\test_env\\lib\\site-packages (4.8.3)\n",
      "Requirement already satisfied: trio~=0.17 in c:\\users\\enter\\miniconda3\\envs\\test_env\\lib\\site-packages (from selenium) (0.22.0)\n",
      "Requirement already satisfied: urllib3[socks]~=1.26 in c:\\users\\enter\\miniconda3\\envs\\test_env\\lib\\site-packages (from selenium) (1.26.15)\n",
      "Requirement already satisfied: trio-websocket~=0.9 in c:\\users\\enter\\miniconda3\\envs\\test_env\\lib\\site-packages (from selenium) (0.10.2)\n",
      "Requirement already satisfied: certifi>=2021.10.8 in c:\\users\\enter\\miniconda3\\envs\\test_env\\lib\\site-packages (from selenium) (2022.12.7)\n",
      "Requirement already satisfied: attrs>=19.2.0 in c:\\users\\enter\\miniconda3\\envs\\test_env\\lib\\site-packages (from trio~=0.17->selenium) (23.1.0)\n",
      "Requirement already satisfied: async-generator>=1.9 in c:\\users\\enter\\miniconda3\\envs\\test_env\\lib\\site-packages (from trio~=0.17->selenium) (1.10)\n",
      "Requirement already satisfied: idna in c:\\users\\enter\\miniconda3\\envs\\test_env\\lib\\site-packages (from trio~=0.17->selenium) (3.4)\n",
      "Requirement already satisfied: sortedcontainers in c:\\users\\enter\\miniconda3\\envs\\test_env\\lib\\site-packages (from trio~=0.17->selenium) (2.4.0)\n",
      "Requirement already satisfied: exceptiongroup>=1.0.0rc9 in c:\\users\\enter\\miniconda3\\envs\\test_env\\lib\\site-packages (from trio~=0.17->selenium) (1.1.1)\n",
      "Requirement already satisfied: outcome in c:\\users\\enter\\miniconda3\\envs\\test_env\\lib\\site-packages (from trio~=0.17->selenium) (1.2.0)\n",
      "Requirement already satisfied: cffi>=1.14 in c:\\users\\enter\\miniconda3\\envs\\test_env\\lib\\site-packages (from trio~=0.17->selenium) (1.15.1)\n",
      "Requirement already satisfied: sniffio in c:\\users\\enter\\miniconda3\\envs\\test_env\\lib\\site-packages (from trio~=0.17->selenium) (1.3.0)\n",
      "Requirement already satisfied: wsproto>=0.14 in c:\\users\\enter\\miniconda3\\envs\\test_env\\lib\\site-packages (from trio-websocket~=0.9->selenium) (1.2.0)\n",
      "Requirement already satisfied: PySocks!=1.5.7,<2.0,>=1.5.6 in c:\\users\\enter\\miniconda3\\envs\\test_env\\lib\\site-packages (from urllib3[socks]~=1.26->selenium) (1.7.1)\n",
      "Requirement already satisfied: pycparser in c:\\users\\enter\\miniconda3\\envs\\test_env\\lib\\site-packages (from cffi>=1.14->trio~=0.17->selenium) (2.21)\n",
      "Requirement already satisfied: h11<1,>=0.9.0 in c:\\users\\enter\\miniconda3\\envs\\test_env\\lib\\site-packages (from wsproto>=0.14->trio-websocket~=0.9->selenium) (0.14.0)\n",
      "4.8.3\n"
     ]
    }
   ],
   "source": [
    "!pip install selenium\n",
    "import selenium\n",
    "print(selenium.__version__)"
   ]
  },
  {
   "cell_type": "code",
   "execution_count": 4,
   "metadata": {},
   "outputs": [],
   "source": [
    "import time #time.sleep()쓰기 위함 \n",
    "from selenium import webdriver  #webdriver 쓰기 위함 \n",
    "from selenium.webdriver.chrome.options import Options  #이 코드라인이 없으면, 에러가 나온다. \n",
    "\n",
    "# 크롬 옵션 headless 모드로 실행\n",
    "options = Options()\n",
    "options.add_argument('--headless')\n",
    "\n",
    "# 크롬 드라이버 경로 지정\n",
    "driver_path = 'chromedriver'\n",
    "\n",
    "# 크롬 드라이버 객체 생성\n",
    "driver = webdriver.Chrome(executable_path=driver_path, options=options)"
   ]
  },
  {
   "attachments": {},
   "cell_type": "markdown",
   "metadata": {},
   "source": [
    "## 시작\n"
   ]
  },
  {
   "cell_type": "code",
   "execution_count": 6,
   "metadata": {},
   "outputs": [],
   "source": [
    "\n",
    " # 웹페이지 요청 네이버 날씨 \n",
    "url = 'https://weather.naver.com/'\n",
    "driver.get(url)\n",
    "time.sleep(2)\n",
    "from selenium.webdriver.common.by import By\n"
   ]
  },
  {
   "attachments": {},
   "cell_type": "markdown",
   "metadata": {},
   "source": [
    "### 1. 현재온도만을 찾아라!\n"
   ]
  },
  {
   "cell_type": "code",
   "execution_count": null,
   "metadata": {},
   "outputs": [],
   "source": [
    "\n",
    "<strong class=\"current \">\n",
    "                            <span class=\"blind\">현재 온도</span>11.9<span class=\"degree\">°</span>\n",
    "                        </strong>"
   ]
  },
  {
   "cell_type": "code",
   "execution_count": 10,
   "metadata": {},
   "outputs": [
    {
     "name": "stdout",
     "output_type": "stream",
     "text": [
      "현재 온도\n",
      "11.9°\n"
     ]
    }
   ],
   "source": [
    "\n",
    " # 웹페이지 요청 네이버 날씨 \n",
    "url = 'https://weather.naver.com/'\n",
    "driver.get(url)\n",
    "time.sleep(2)  #페이지가 바뀌면 쉬어야 한다. \n",
    "from selenium.webdriver.common.by import By\n",
    "\n",
    "\n",
    "current_temp = driver.find_element(By.CLASS_NAME, 'current').text\n",
    "print(current_temp)\n",
    "# 칸 나누기로 출력되는 것을 11.9 만 출력값으로 만들기"
   ]
  },
  {
   "cell_type": "code",
   "execution_count": 34,
   "metadata": {},
   "outputs": [
    {
     "name": "stdout",
     "output_type": "stream",
     "text": [
      "['현재 온도', '11.9°']\n",
      "['11.9°']\n",
      "11.9°\n",
      "['11.9', '']\n",
      "11.9\n"
     ]
    }
   ],
   "source": [
    "\n",
    "only_temp1 = current_temp.split('\\n')\n",
    "print(only_temp1)\n",
    "\n",
    "only_temp2 = current_temp.split('\\n')[1:]\n",
    "print(only_temp2)\n",
    "\n",
    "only_temp3 = current_temp.split('\\n')[1:][0]\n",
    "print(only_temp3)\n",
    "\n",
    "only_temp4 = current_temp.split('\\n')[1:][0].split('°')\n",
    "print(only_temp4)\n",
    "\n",
    "only_temp5 = current_temp.split('\\n')[1:][0].split('°')[0]\n",
    "print(only_temp5)"
   ]
  },
  {
   "attachments": {},
   "cell_type": "markdown",
   "metadata": {},
   "source": [
    "### 2. 습도, 체감, 남서풍을 찾아라!"
   ]
  },
  {
   "cell_type": "code",
   "execution_count": null,
   "metadata": {},
   "outputs": [],
   "source": [
    "<ul class=\"weather_table list\">\n",
    "            \n",
    "                <li>\n",
    "                    <dl>\n",
    "                        <dt>습도</dt>\n",
    "                        <dd><em>92</em><span class=\"unit\">%</span></dd>\n",
    "                    </dl>\n",
    "                </li>\n",
    "            \n",
    "                <li>\n",
    "                    <dl>\n",
    "                        <dt>체감</dt>\n",
    "                        <dd>12.0°</dd>\n",
    "                    </dl>\n",
    "                </li>\n",
    "            \n",
    "                <li>\n",
    "                    <dl>\n",
    "                        <dt>남서풍</dt>\n",
    "                        <dd><em>0.9</em><span class=\"unit\">m/s</span></dd>\n",
    "                    </dl>\n",
    "                </li>\n",
    "            </ul>"
   ]
  },
  {
   "cell_type": "code",
   "execution_count": 36,
   "metadata": {},
   "outputs": [
    {
     "name": "stdout",
     "output_type": "stream",
     "text": [
      "습도 93% 체감 12.0° 남풍 0.8m/s\n"
     ]
    }
   ],
   "source": [
    "\n",
    "weather_list = driver.find_element(By.CLASS_NAME, 'weather_table').text\n",
    "print(weather_list)"
   ]
  },
  {
   "cell_type": "code",
   "execution_count": 51,
   "metadata": {},
   "outputs": [
    {
     "name": "stdout",
     "output_type": "stream",
     "text": [
      "['습도', '93%', '체감', '12.0°', '남풍', '0.8m/s']\n",
      "\n",
      " 습도 : 93% \n",
      " 체감 : 12.0° \n",
      " wind_direction\n"
     ]
    }
   ],
   "source": [
    "data = weather_list.split(' ')\n",
    "print(data)\n",
    "\n",
    "humidity = f'{data[0]} : {data[1]}'\n",
    "chill_wind = f'{data[2]} : {data[3]}'\n",
    "wind_direction = f'{data[4]} : {data[5]}'\n",
    "print('\\n', humidity,'\\n',chill_wind,'\\n', 'wind_direction' )"
   ]
  },
  {
   "cell_type": "code",
   "execution_count": 62,
   "metadata": {},
   "outputs": [
    {
     "name": "stdout",
     "output_type": "stream",
     "text": [
      "[<selenium.webdriver.remote.webelement.WebElement (session=\"7109b90401e4f7924f3ba96ef9851e70\", element=\"ac624af0-2aee-425e-a63f-8e43f7be8959\")>, <selenium.webdriver.remote.webelement.WebElement (session=\"7109b90401e4f7924f3ba96ef9851e70\", element=\"c611f0c5-2ddc-4cef-900d-d5f928f4b294\")>, <selenium.webdriver.remote.webelement.WebElement (session=\"7109b90401e4f7924f3ba96ef9851e70\", element=\"220837f6-07e7-4ec1-a231-875b8833552c\")>]\n",
      "습도 93%\n",
      "체감 12.0°\n",
      "남풍 0.8m/s\n"
     ]
    }
   ],
   "source": [
    "parent = driver.find_element(By.CLASS_NAME, 'weather_table')\n",
    "\n",
    "child_list = parent.find_elements(By.TAG_NAME, 'li')\n",
    "print(child_list)\n",
    "\n",
    "for child in child_list:\n",
    "    print(child.text)"
   ]
  }
 ],
 "metadata": {
  "kernelspec": {
   "display_name": "test_env",
   "language": "python",
   "name": "python3"
  },
  "language_info": {
   "codemirror_mode": {
    "name": "ipython",
    "version": 3
   },
   "file_extension": ".py",
   "mimetype": "text/x-python",
   "name": "python",
   "nbconvert_exporter": "python",
   "pygments_lexer": "ipython3",
   "version": "3.9.16"
  },
  "orig_nbformat": 4
 },
 "nbformat": 4,
 "nbformat_minor": 2
}
