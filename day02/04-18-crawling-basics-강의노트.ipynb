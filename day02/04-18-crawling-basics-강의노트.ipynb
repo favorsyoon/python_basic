{
 "cells": [
  {
   "cell_type": "code",
   "execution_count": null,
   "metadata": {},
   "outputs": [],
   "source": [
    "%%shell\n",
    "cat > /etc/apt/sources.list.d/debian.list <<'EOF'\n",
    "deb [arch=amd64 signed-by=/usr/share/keyrings/debian-buster.gpg] http://deb.debian.org/debian buster main\n",
    "deb [arch=amd64 signed-by=/usr/share/keyrings/debian-buster-updates.gpg] http://deb.debian.org/debian buster-updates main\n",
    "deb [arch=amd64 signed-by=/usr/share/keyrings/debian-security-buster.gpg] http://deb.debian.org/debian-security buster/updates main\n",
    "EOF\n",
    "\n",
    "# Add keys\n",
    "apt-key adv --keyserver keyserver.ubuntu.com --recv-keys DCC9EFBF77E11517\n",
    "apt-key adv --keyserver keyserver.ubuntu.com --recv-keys 648ACFD622F3D138\n",
    "apt-key adv --keyserver keyserver.ubuntu.com --recv-keys 112695A0E562B32A\n",
    "\n",
    "apt-key export 77E11517 | gpg --dearmour -o /usr/share/keyrings/debian-buster.gpg\n",
    "apt-key export 22F3D138 | gpg --dearmour -o /usr/share/keyrings/debian-buster-updates.gpg\n",
    "apt-key export E562B32A | gpg --dearmour -o /usr/share/keyrings/debian-security-buster.gpg\n",
    "\n",
    "# Prefer debian repo for chromium* packages only\n",
    "# Note the double-blank lines between entries\n",
    "cat > /etc/apt/preferences.d/chromium.pref << 'EOF'\n",
    "Package: *\n",
    "Pin: release a=eoan\n",
    "Pin-Priority: 500\n",
    "\n",
    "\n",
    "Package: *\n",
    "Pin: origin \"deb.debian.org\"\n",
    "Pin-Priority: 300\n",
    "\n",
    "\n",
    "Package: chromium*\n",
    "Pin: origin \"deb.debian.org\"\n",
    "Pin-Priority: 700\n",
    "EOF\n",
    "\n",
    "# Install chromium and chromium-driver\n",
    "apt-get update\n",
    "apt-get install chromium chromium-driver\n",
    "\n",
    "# Install selenium\n",
    "pip install selenium"
   ]
  },
  {
   "cell_type": "code",
   "execution_count": null,
   "metadata": {},
   "outputs": [],
   "source": [
    "from selenium import webdriver\n",
    "from selenium.webdriver.common.by import By"
   ]
  },
  {
   "cell_type": "code",
   "execution_count": null,
   "metadata": {},
   "outputs": [],
   "source": [
    "#Colab에선 웹브라우저 창이 뜨지 않으므로 별도 설정한다.\n",
    "\n",
    "options = webdriver.ChromeOptions()\n",
    "options.add_argument('--headless')   # Head-less 설정\n",
    "options.add_argument('--no-sandbox') # 보안 기능 비활성화 (샌드박스라는 공간을 비활성화 시킨다는 뜻)\n",
    "options.add_argument('--disable-dev-shm-usage') # /dev/shm(공유메모리) 디렉토리를 사용하지 않는다는 뜻\n",
    "browser = webdriver.Chrome('chromedriver', options=options)"
   ]
  },
  {
   "cell_type": "code",
   "execution_count": null,
   "metadata": {},
   "outputs": [],
   "source": [
    "#해당 url로 이동\n",
    "url = \"https://www.naver.com/\"\n",
    "browser.get(url)"
   ]
  },
  {
   "cell_type": "code",
   "execution_count": null,
   "metadata": {},
   "outputs": [],
   "source": [
    "# (1) 검색창 클릭\n",
    "# (2) 검색창에 단어(날씨)를 입력 => .send_keys()\n",
    "# (3) 검색창 아이콘 클릭\n",
    "browser.find_element(By.ID, 'query').click()\n",
    "browser.find_element(By.ID, 'query').send_keys(\"날씨\")\n",
    "browser.find_element(By.ID, 'search_btn').click()"
   ]
  },
  {
   "cell_type": "code",
   "execution_count": null,
   "metadata": {},
   "outputs": [],
   "source": [
    "url = \"https://www.google.com\"\n",
    "browser.get(url)\n",
    "browser.find_element(By.CLASS_NAME, 'RNmpXc')"
   ]
  },
  {
   "cell_type": "code",
   "execution_count": null,
   "metadata": {},
   "outputs": [],
   "source": [
    "url = 'https://weather.naver.com/'\n",
    "browser.get(url)\n",
    "\n",
    "before_temp = browser.find_element(By.CLASS_NAME, 'current').text\n",
    "\n",
    "before_temp.split(\"\\n\")[1][:-1] # [현재온도, 11.1]"
   ]
  },
  {
   "cell_type": "code",
   "execution_count": null,
   "metadata": {},
   "outputs": [],
   "source": [
    "# 습도 체감 동풍 - 변수로 따로 담아주세요.\n",
    "data = browser.find_element(By.CLASS_NAME, 'weather_table').text\n",
    "data = data.split(\" \")\n",
    "\n",
    "hum = data[1]\n",
    "temp = data[3]\n",
    "wind = data[5]\n",
    "\n",
    "print(hum, temp, wind)"
   ]
  },
  {
   "cell_type": "code",
   "execution_count": null,
   "metadata": {},
   "outputs": [],
   "source": [
    "parent = browser.find_element(By.CLASS_NAME, 'weather_table')\n",
    "\n",
    "# child = parent.find_element(By.TAG_NAME, 'li')\n",
    "child_list = parent.find_elements(By.TAG_NAME, 'li')\n",
    "\n",
    "for child in child_list:\n",
    "  print(child.text)"
   ]
  },
  {
   "attachments": {},
   "cell_type": "markdown",
   "metadata": {},
   "source": [
    "### 네이버 증권\n",
    "- 코스피, 코스닥 데이터 가져오기"
   ]
  },
  {
   "cell_type": "code",
   "execution_count": null,
   "metadata": {},
   "outputs": [],
   "source": [
    "url = 'https://finance.naver.com/'\n",
    "browser.get(url)"
   ]
  },
  {
   "cell_type": "code",
   "execution_count": null,
   "metadata": {},
   "outputs": [],
   "source": [
    "datas = browser.find_elements(By.CLASS_NAME, 'dn')\n",
    "\n",
    "for elem in datas:\n",
    "  print(elem.text, \"\\n\") # 예약어. 이미 파이썬 언어가 사용 중인 변수값."
   ]
  },
  {
   "cell_type": "code",
   "execution_count": null,
   "metadata": {},
   "outputs": [],
   "source": [
    "parent = browser.find_element(By.ID, '_topItems1')\n",
    "\n",
    "childs = parent.find_elements(By.TAG_NAME, 'tr')\n",
    "\n",
    "for child in childs:\n",
    "  print(child.text, \"\\n\")"
   ]
  },
  {
   "attachments": {},
   "cell_type": "markdown",
   "metadata": {},
   "source": [
    "### 구글 뉴스 크롤링"
   ]
  },
  {
   "cell_type": "code",
   "execution_count": null,
   "metadata": {},
   "outputs": [],
   "source": [
    "# 1단계 : 1건의 뉴스 데이터 가져오기 (단건)\n",
    "# - 뉴스제목 / 뉴스 링크 / 신문사\n",
    "title = browser.find_element(By.CLASS_NAME, 'ipQwMb').text\n",
    "link = browser.find_element(By.CLASS_NAME, 'VDXfz').get_attribute('href')\n",
    "company = browser.find_element(By.CLASS_NAME, 'lqNvvd').get_attribute('alt')\n",
    "\n",
    "print(title, link, company)"
   ]
  },
  {
   "cell_type": "code",
   "execution_count": null,
   "metadata": {},
   "outputs": [],
   "source": [
    "# 2단계 : 12건의 뉴스 데이터 다 가져오기 (다건)\n",
    "# - 뉴스제목 / 뉴스 링크 / 신문사 / 작성시간 / 이미지링크\n",
    "\n",
    "titles = browser.find_elements(By.CLASS_NAME, 'ipQwMb')\n",
    "title_list = []\n",
    "for i in titles:\n",
    "  title_list.append(i.text)\n",
    "\n",
    "# print(title_list)\n",
    "\n",
    "links = browser.find_elements(By.CLASS_NAME, 'VDXfz')\n",
    "link_list = []\n",
    "for i in links:\n",
    "  link_list.append(i.get_attribute('href'))\n",
    "\n",
    "print(link_list)"
   ]
  },
  {
   "cell_type": "code",
   "execution_count": null,
   "metadata": {},
   "outputs": [],
   "source": [
    "url = 'https://e.kakao.com/search?q=%EC%B6%98%EC%8B%9D%EC%9D%B4'\n",
    "browser.get(url)"
   ]
  },
  {
   "cell_type": "code",
   "execution_count": null,
   "metadata": {},
   "outputs": [],
   "source": [
    "browser.find_element(By.CLASS_NAME, 'img_default').get_attribute('src')"
   ]
  },
  {
   "cell_type": "code",
   "execution_count": null,
   "metadata": {},
   "outputs": [],
   "source": [
    "# 이미지 링크\n",
    "imgs = browser.find_elements(By.CLASS_NAME, 'img_hover')\n",
    "img_list = []\n",
    "for i in imgs:\n",
    "  img_list.append(i.get_attribute('src'))\n",
    "\n",
    "# 파일명\n",
    "titles = browser.find_elements(By.CLASS_NAME, 'txt_tit')\n",
    "title_list = []\n",
    "for i in titles:\n",
    "  title_list.append(i.text)\n",
    "\n",
    "import urllib.request\n",
    "for i in range(10):\n",
    "  urllib.request.urlretrieve(img_list[i], title_list[i]+\".png\")"
   ]
  }
 ],
 "metadata": {
  "language_info": {
   "name": "python"
  },
  "orig_nbformat": 4
 },
 "nbformat": 4,
 "nbformat_minor": 2
}
