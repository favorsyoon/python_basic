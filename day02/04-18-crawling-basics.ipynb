{
 "cells": [
  {
   "cell_type": "code",
   "execution_count": 1,
   "metadata": {},
   "outputs": [
    {
     "name": "stdout",
     "output_type": "stream",
     "text": [
      "Requirement already satisfied: selenium in c:\\users\\enter\\miniconda3\\lib\\site-packages (4.8.3)\n",
      "Requirement already satisfied: trio~=0.17 in c:\\users\\enter\\miniconda3\\lib\\site-packages (from selenium) (0.22.0)\n",
      "Requirement already satisfied: trio-websocket~=0.9 in c:\\users\\enter\\miniconda3\\lib\\site-packages (from selenium) (0.10.2)\n",
      "Requirement already satisfied: certifi>=2021.10.8 in c:\\users\\enter\\miniconda3\\lib\\site-packages (from selenium) (2022.12.7)\n",
      "Requirement already satisfied: urllib3[socks]~=1.26 in c:\\users\\enter\\miniconda3\\lib\\site-packages (from selenium) (1.26.14)\n",
      "Requirement already satisfied: exceptiongroup>=1.0.0rc9 in c:\\users\\enter\\miniconda3\\lib\\site-packages (from trio~=0.17->selenium) (1.1.1)\n",
      "Requirement already satisfied: sortedcontainers in c:\\users\\enter\\miniconda3\\lib\\site-packages (from trio~=0.17->selenium) (2.4.0)\n",
      "Requirement already satisfied: async-generator>=1.9 in c:\\users\\enter\\miniconda3\\lib\\site-packages (from trio~=0.17->selenium) (1.10)\n",
      "Requirement already satisfied: sniffio in c:\\users\\enter\\miniconda3\\lib\\site-packages (from trio~=0.17->selenium) (1.3.0)\n",
      "Requirement already satisfied: attrs>=19.2.0 in c:\\users\\enter\\miniconda3\\lib\\site-packages (from trio~=0.17->selenium) (22.2.0)\n",
      "Requirement already satisfied: outcome in c:\\users\\enter\\miniconda3\\lib\\site-packages (from trio~=0.17->selenium) (1.2.0)\n",
      "Requirement already satisfied: idna in c:\\users\\enter\\miniconda3\\lib\\site-packages (from trio~=0.17->selenium) (3.4)\n",
      "Requirement already satisfied: cffi>=1.14 in c:\\users\\enter\\miniconda3\\lib\\site-packages (from trio~=0.17->selenium) (1.15.1)\n",
      "Requirement already satisfied: wsproto>=0.14 in c:\\users\\enter\\miniconda3\\lib\\site-packages (from trio-websocket~=0.9->selenium) (1.2.0)\n",
      "Requirement already satisfied: PySocks!=1.5.7,<2.0,>=1.5.6 in c:\\users\\enter\\miniconda3\\lib\\site-packages (from urllib3[socks]~=1.26->selenium) (1.7.1)\n",
      "Requirement already satisfied: pycparser in c:\\users\\enter\\miniconda3\\lib\\site-packages (from cffi>=1.14->trio~=0.17->selenium) (2.21)\n",
      "Requirement already satisfied: h11<1,>=0.9.0 in c:\\users\\enter\\miniconda3\\lib\\site-packages (from wsproto>=0.14->trio-websocket~=0.9->selenium) (0.14.0)\n"
     ]
    }
   ],
   "source": [
    "!pip install selenium"
   ]
  },
  {
   "cell_type": "code",
   "execution_count": 4,
   "metadata": {},
   "outputs": [],
   "source": [
    "# 해당 경로에 있는 chromedriver를 불러옵니다.\n",
    "from selenium import webdriver\n",
    "import time\n",
    "\n",
    "\n",
    "# opinet.co.kr에 접속합니다.\n",
    "driver = webdriver.Chrome('chromedriver')\n",
    "url = 'https://www.naver.com'\n",
    "browser = driver.get(url)\n",
    "browser\n",
    "\n",
    "# 필요한 자바스크립트 파일을 불러옵니다.\n",
    "\n",
    "# 2초 쉽니다. (페이지 로딩을 위해)\n",
    "time.sleep(2)"
   ]
  },
  {
   "cell_type": "code",
   "execution_count": 11,
   "metadata": {},
   "outputs": [
    {
     "name": "stdout",
     "output_type": "stream",
     "text": [
      "날씨 : 네이버 통합검색\n"
     ]
    }
   ],
   "source": [
    "# from selenium import webdriver\n",
    "# from selenium.webdriver.common.by import By\n",
    "# from selenium.webdriver.support.ui import WebDriverWait\n",
    "# from selenium.webdriver.support import expected_conditions as EC\n",
    "# import time\n",
    "\n",
    "# # Create a webdriver instance and navigate to the URL\n",
    "# driver = webdriver.Chrome('chromedriver')\n",
    "# url = 'https://www.naver.com'\n",
    "# driver.get(url)\n",
    "\n",
    "# # Find the search input element and enter the search term\n",
    "# search_input = WebDriverWait(driver, 10).until(EC.element_to_be_clickable((By.ID, 'query')))\n",
    "# search_input.click()\n",
    "# search_input.send_keys('날씨')\n",
    "\n",
    "# # Find the search button and click it\n",
    "# search_button = WebDriverWait(driver, 10).until(EC.element_to_be_clickable((By.ID, 'search_btn')))\n",
    "# search_button.click()\n",
    "\n",
    "# # Wait for the search results to load\n",
    "# time.sleep(2)\n",
    "\n",
    "# # Print the title of the page to verify that the search was successful\n",
    "# print(driver.title)\n",
    "\n",
    "# # Close the browser\n",
    "# driver.quit()"
   ]
  },
  {
   "cell_type": "code",
   "execution_count": 12,
   "metadata": {},
   "outputs": [
    {
     "name": "stdout",
     "output_type": "stream",
     "text": [
      "날씨 : 네이버 통합검색\n"
     ]
    }
   ],
   "source": [
    "#1. 검색창 클릭\n",
    "#2. 검색창에 단어(날씨)를 입력 => .send_keys()\n",
    "#3. 검색창 아이콘 클릭\n",
    "\n",
    "\n",
    "\n",
    "# browser.find_element(By.ID, 'query').click()\n",
    "# time.sleep(2)\n",
    "# browser.find_element(By.ID, 'query').send_keys('날씨')\n",
    "# time.sleep(3)\n",
    "# browser.find_element(By.ID, 'search_btn').click()\n",
    "\n",
    "import time\n",
    "from selenium import webdriver\n",
    "from selenium.webdriver.common.by import By\n",
    "from selenium.webdriver.support.ui import WebDriverWait\n",
    "from selenium.webdriver.support import expected_conditions as EC\n",
    "\n",
    "# Create a webdriver instance and navigate to the URL\n",
    "browser = webdriver.Chrome('chromedriver')\n",
    "url = 'https://www.naver.com'\n",
    "browser.get(url)\n",
    "\n",
    "# Find the search input element and enter the search term\n",
    "search_input = WebDriverWait(browser, 10).until(EC.element_to_be_clickable((By.ID, 'query')))\n",
    "search_input.send_keys('날씨')\n",
    "\n",
    "# Find the search button and click it\n",
    "search_button = WebDriverWait(browser, 10).until(EC.element_to_be_clickable((By.ID, 'search_btn')))\n",
    "search_button.click()\n",
    "\n",
    "# Wait for the search results to load\n",
    "time.sleep(2)\n",
    "\n",
    "# Print the title of the page to verify that the search was successful\n",
    "print(browser.title)\n",
    "\n",
    "\n",
    "# # Close the browser\n",
    "# browser.quit()\n",
    "\n",
    "\n"
   ]
  },
  {
   "cell_type": "code",
   "execution_count": 3,
   "metadata": {},
   "outputs": [
    {
     "name": "stderr",
     "output_type": "stream",
     "text": [
      "C:\\Users\\enter\\AppData\\Local\\Temp\\ipykernel_21512\\2562659116.py:7: DeprecationWarning: headless property is deprecated, instead use add_argument('--headless') or add_argument('--headless=new')\n",
      "  options.headless = True  # headless 모드로 실행\n"
     ]
    }
   ],
   "source": [
    "import time\n",
    "from selenium import webdriver\n",
    "from selenium.webdriver.chrome.options import Options\n",
    "\n",
    "# 크롬 옵션 설정\n",
    "options = Options()\n",
    "options.headless = True  # headless 모드로 실행\n",
    "\n",
    "# 크롬 드라이버 경로 지정\n",
    "driver_path = 'chromedriver'\n",
    "\n",
    "# 크롬 드라이버 객체 생성\n",
    "driver = webdriver.Chrome(executable_path=driver_path, options=options)"
   ]
  },
  {
   "cell_type": "code",
   "execution_count": null,
   "metadata": {},
   "outputs": [],
   "source": [
    "\n",
    "<strong class=\"current \">\n",
    "                            <span class=\"blind\">현재 온도</span>11.0<span class=\"degree\">°</span>\n",
    "                        </strong>\n",
    "\n",
    "\n",
    "\n",
    "\n",
    "# 강사 답변 before_temp = browser.find_element(By.CLASS_NAME, 'current').text\n",
    "\n",
    "# 강사 답변 before_temp.split(\"\\n\")[1][:-1] # [현재온도, 11.1]"
   ]
  },
  {
   "cell_type": "code",
   "execution_count": 3,
   "metadata": {},
   "outputs": [
    {
     "name": "stdout",
     "output_type": "stream",
     "text": [
      "현재 온도\n",
      "14.4°\n",
      "['현재 온도', '14.4°']\n",
      "14.4°\n",
      "14.4\n"
     ]
    }
   ],
   "source": [
    "from selenium.webdriver.common.by import By\n",
    "\n",
    "driver = webdriver.Chrome(executable_path=driver_path, options=options)\n",
    "url = 'https://weather.naver.com/' # 네이버 날씨 URL\n",
    "driver.get(url) # 웹페이지 요청\n",
    "\n",
    "time.sleep(2) # 페이지 로딩 대기 시간\n",
    "\n",
    "temperature_element = driver.find_element(By.CLASS_NAME, 'current').text\n",
    "print(temperature_element)\n",
    "\n",
    "print(temperature_element.split('\\n'))\n",
    "print(temperature_element.split('\\n')[1])\n",
    "print(temperature_element.split('\\n')[1][:-1])\n",
    "\n",
    "\n",
    "# # 현재 온도 정보 추출\n",
    "# temperature_element = driver.find_element(By.XPATH, '//*[@id=\"now\"]/div/div[3]/div[1]/div/strong')\n",
    "# temperature = temperature_element.text[:-1].strip()\n",
    "# print('현재 온도:', temperature)"
   ]
  },
  {
   "cell_type": "code",
   "execution_count": null,
   "metadata": {},
   "outputs": [],
   "source": [
    "<ul class=\"weather_table list\">\n",
    "            \n",
    "                <li>\n",
    "                    <dl>\n",
    "                        <dt>습도</dt>\n",
    "                        <dd><em>94</em><span class=\"unit\">%</span></dd>\n",
    "                    </dl>\n",
    "                </li>\n",
    "            \n",
    "                <li>\n",
    "                    <dl>\n",
    "                        <dt>체감</dt>\n",
    "                        <dd>11.0°</dd>\n",
    "                    </dl>\n",
    "                </li>\n",
    "            \n",
    "                <li>\n",
    "                    <dl>\n",
    "                        <dt>남동풍</dt>\n",
    "                        <dd><em>1.6</em><span class=\"unit\">m/s</span></dd>\n",
    "                    </dl>\n",
    "                </li>\n",
    "            </ul>\n",
    "            \n",
    "\n",
    "\n"
   ]
  },
  {
   "attachments": {},
   "cell_type": "markdown",
   "metadata": {},
   "source": [
    "### 강사 답변"
   ]
  },
  {
   "cell_type": "code",
   "execution_count": 90,
   "metadata": {},
   "outputs": [
    {
     "data": {
      "text/plain": [
       "<selenium.webdriver.remote.webelement.WebElement (session=\"c59038a9c1450b6523ac2f70b876e987\", element=\"375ab771-d2e9-4b78-82f0-493cdf8d6e13\")>"
      ]
     },
     "execution_count": 90,
     "metadata": {},
     "output_type": "execute_result"
    }
   ],
   "source": [
    "parent= driver.find_element(By.CLASS_NAME, 'weather_table')\n",
    "\n",
    "# child = driver.find_element(By.TAG_NAME, 'li')\n",
    "child_list =  driver.find_element(By.TAG_NAME, 'li')\n",
    "child_list"
   ]
  },
  {
   "cell_type": "code",
   "execution_count": 100,
   "metadata": {},
   "outputs": [
    {
     "name": "stdout",
     "output_type": "stream",
     "text": [
      "<selenium.webdriver.remote.webelement.WebElement (session=\"c59038a9c1450b6523ac2f70b876e987\", element=\"7b2b1917-d0f4-4ff5-a9e8-8ce25e0bb35f\")>\n"
     ]
    },
    {
     "ename": "TypeError",
     "evalue": "'WebElement' object is not iterable",
     "output_type": "error",
     "traceback": [
      "\u001b[1;31m---------------------------------------------------------------------------\u001b[0m",
      "\u001b[1;31mTypeError\u001b[0m                                 Traceback (most recent call last)",
      "Cell \u001b[1;32mIn[100], line 8\u001b[0m\n\u001b[0;32m      4\u001b[0m child_list \u001b[39m=\u001b[39m parent\u001b[39m.\u001b[39mfind_element(By\u001b[39m.\u001b[39mTAG_NAME, \u001b[39m'\u001b[39m\u001b[39mli\u001b[39m\u001b[39m'\u001b[39m)\n\u001b[0;32m      5\u001b[0m \u001b[39mprint\u001b[39m(child_list)\n\u001b[1;32m----> 8\u001b[0m \u001b[39mfor\u001b[39;00m child \u001b[39min\u001b[39;00m child_list:\n\u001b[0;32m      9\u001b[0m     \u001b[39mprint\u001b[39m(child\u001b[39m.\u001b[39mtext)\n",
      "\u001b[1;31mTypeError\u001b[0m: 'WebElement' object is not iterable"
     ]
    }
   ],
   "source": [
    "parent= driver.find_element(By.CLASS_NAME, 'weather_table')\n",
    "\n",
    "# child = driver.find_element(By.TAG_NAME, 'li')\n",
    "child_list = parent.find_element(By.TAG_NAME, 'li')\n",
    "print(child_list)\n",
    "\n",
    "\n",
    "for child in child_list:\n",
    "    print(child.text)\n"
   ]
  },
  {
   "attachments": {},
   "cell_type": "markdown",
   "metadata": {},
   "source": [
    "### 내가 찾은 답변"
   ]
  },
  {
   "cell_type": "code",
   "execution_count": 88,
   "metadata": {},
   "outputs": [
    {
     "name": "stdout",
     "output_type": "stream",
     "text": [
      "습도 : 94%\n",
      "체감 : 11.0°\n",
      "남동풍 : 1.6m/s\n"
     ]
    }
   ],
   "source": [
    "#습도\n",
    "humidity_element = driver.find_element(By.XPATH, '//ul[@class=\"weather_table list\"]/li[1]/dl')\n",
    "humidity = humidity_element.find_element(By.XPATH, './dt').text\n",
    "humidity_value = humidity_element.find_element(By.XPATH, './dd/em').text\n",
    "print(humidity,':',  humidity_value + '%')\n",
    "\n",
    "\n",
    "#체감 온도\n",
    "wind_chill_element = driver.find_element(By.XPATH, '//ul[@class=\"weather_table list\"]/li[2]/dl')\n",
    "wind_chill = wind_chill_element.find_element(By.XPATH, './dt').text\n",
    "wind_chill_temperature = wind_chill_element.find_element(By.XPATH, './dd').text\n",
    "print(wind_chill,':', wind_chill_temperature)\n",
    "\n",
    "\n",
    "wind_direction_element = driver.find_element(By.XPATH, '//ul[@class=\"weather_table list\"]/li[3]/dl/dt')\n",
    "wind_direction = wind_direction_element.text\n",
    "\n",
    "\n",
    "wind_element = driver.find_element(By.XPATH, '//ul[@class=\"weather_table list\"]/li[3]/dl')\n",
    "wind_speed = wind_element.find_element(By.XPATH, './dd/em').text + wind_element.find_element(By.XPATH, './dd/span').text\n",
    "print(wind_direction ,':', wind_speed)\n",
    "\n",
    "\n"
   ]
  },
  {
   "attachments": {},
   "cell_type": "markdown",
   "metadata": {},
   "source": [
    "### 네이버 증권 \n",
    "- 코스피, 코스닥 데이터 가져오기"
   ]
  },
  {
   "cell_type": "code",
   "execution_count": null,
   "metadata": {},
   "outputs": [],
   "source": [
    "\n",
    "<span class=\"num_quot dn\"><span class=\"num\">2,567.69</span>\n",
    "<span class=\"num2\">8.22</span>\n",
    "<span class=\"num3\"><span class=\"blind\">-</span>0.32<span class=\"per\">%</span></span>\n",
    "<span class=\"blind\">하락</span></span>"
   ]
  },
  {
   "cell_type": "code",
   "execution_count": 125,
   "metadata": {},
   "outputs": [],
   "source": [
    "from selenium.webdriver.common.by import By\n",
    "\n",
    "url = 'https://finance.naver.com/' # 네이버 증권\n",
    "driver.get(url) # 웹페이지 요청\n",
    "\n",
    "time.sleep(2)\n",
    "data = driver.find_elements(By.CLASS_NAME, 'num.quot')\n",
    "\n",
    "for elem in data:\n",
    "    print(elem.text, '\\n')"
   ]
  },
  {
   "cell_type": "code",
   "execution_count": null,
   "metadata": {},
   "outputs": [],
   "source": []
  },
  {
   "attachments": {},
   "cell_type": "markdown",
   "metadata": {},
   "source": [
    "### 구글 뉴스 크롤링\n"
   ]
  },
  {
   "cell_type": "code",
   "execution_count": null,
   "metadata": {},
   "outputs": [],
   "source": [
    "\n",
    "# 1단계 : 1건의 뉴스 데이터 가져오기 \n",
    "# - 뉴스제목/ 뉴스 내용/ 뉴스 링크 / 신문사 "
   ]
  },
  {
   "attachments": {},
   "cell_type": "markdown",
   "metadata": {},
   "source": [
    "### ChatGPT답변"
   ]
  },
  {
   "cell_type": "code",
   "execution_count": 155,
   "metadata": {},
   "outputs": [],
   "source": [
    "import time\n",
    "from selenium import webdriver\n",
    "from selenium.webdriver.chrome.options import Options\n",
    "from selenium.webdriver.common.by import By\n",
    "import pandas as pd\n",
    "\n",
    "# 크롬 옵션 설정\n",
    "options = Options()\n",
    "options.add_argument('--headless')  # headless 모드로 실행\n",
    "\n",
    "# 크롬 드라이버 경로 지정\n",
    "driver_path = 'chromedriver'\n",
    "\n",
    "# 크롬 드라이버 객체 생성\n",
    "driver = webdriver.Chrome(executable_path=driver_path, options=options)\n",
    "\n",
    " # 웹페이지 요청\n",
    "url = 'https://news.google.com/search?q=%EC%9D%B8%EA%B3%B5%EC%A7%80%EB%8A%A5&hl=ko&gl=KR&ceid=KR%3Ako'\n",
    "driver.get(url)\n",
    "time.sleep(2)\n",
    "\n",
    "# 뉴스제목, 뉴스 내용, 뉴스 링크, 신문사 추출\n",
    "# 웹 페이지에서 뉴스 헤드라인 추출\n",
    "headlines = driver.find_elements(By.XPATH, '//h3[@class=\"ipQwMb ekueJc RD0gLb\"]')\n",
    "news_titles = [headline.text for headline in headlines]\n",
    "\n",
    "# 웹 페이지에서 뉴스 링크 추출\n",
    "links = driver.find_elements(By.XPATH, '//a[@class=\"DY5T1d\"]')\n",
    "news_links = [link.get_attribute(\"href\") for link in links]\n",
    "\n",
    "# 웹 페이지에서 뉴스 내용 추출\n",
    "contents = driver.find_elements(By.XPATH, '//span[@class=\"xBbh9\"]')\n",
    "news_contents = [content.text for content in contents]\n",
    "\n",
    "# 웹 페이지에서 신문사 추출\n",
    "sources = driver.find_elements(By.XPATH, '//a[@class=\"wEwyrc AVN2gc uQIVzc Sksgp\"]')\n",
    "news_sources = [source.text for source in sources]\n",
    "\n",
    "# 뉴스 제목, 내용, 링크, 신문사를 담은 딕셔너리 만들기\n",
    "news_dict = {'title': news_titles[:len(news_contents)], 'content': news_contents, 'link': news_links[:len(news_contents)], 'source': news_sources[:len(news_contents)]}\n",
    "\n",
    "\n",
    "# 딕셔너리를 데이터프레임으로 변환\n",
    "df = pd.DataFrame(news_dict)\n",
    "\n",
    "# 데이터프레임을 CSV 파일로 저장\n",
    "df.to_csv('news.csv', index=False)\n",
    "\n",
    "driver.quit() # 드라이버 종료\n",
    "\n",
    "\n",
    "\n"
   ]
  },
  {
   "cell_type": "code",
   "execution_count": null,
   "metadata": {},
   "outputs": [],
   "source": []
  },
  {
   "cell_type": "code",
   "execution_count": null,
   "metadata": {},
   "outputs": [],
   "source": [
    "#2단계 : 12건의 뉴스 데이터 다 가져오기 \n",
    "# - 뉴스제목/ 뉴스내용/ 뉴스링크 / 신문사"
   ]
  },
  {
   "cell_type": "code",
   "execution_count": null,
   "metadata": {},
   "outputs": [],
   "source": [
    "#4단계: 슬랙에 전송하기 "
   ]
  },
  {
   "attachments": {},
   "cell_type": "markdown",
   "metadata": {},
   "source": [
    "### 구글뉴스크롤링 강사 버전 - "
   ]
  },
  {
   "cell_type": "code",
   "execution_count": null,
   "metadata": {},
   "outputs": [],
   "source": [
    "import time\n",
    "from selenium import webdriver\n",
    "from selenium.webdriver.chrome.options import Options\n",
    "from selenium.webdriver.common.by import By\n",
    "import pandas as pd\n",
    "\n",
    "# 크롬 옵션 설정\n",
    "options = Options()\n",
    "options.add_argument('--headless')  # headless 모드로 실행\n",
    "\n",
    "# 크롬 드라이버 경로 지정\n",
    "driver_path = 'chromedriver'\n",
    "\n",
    "# 크롬 드라이버 객체 생성\n",
    "driver = webdriver.Chrome(executable_path=driver_path, options=options)\n",
    "\n",
    " # 웹페이지 요청\n",
    "url = 'https://news.google.com/search?q=%EC%9D%B8%EA%B3%B5%EC%A7%80%EB%8A%A5&hl=ko&gl=KR&ceid=KR%3Ako'\n",
    "driver.get(url)\n",
    "time.sleep(2)\n"
   ]
  }
 ],
 "metadata": {
  "kernelspec": {
   "display_name": "base",
   "language": "python",
   "name": "python3"
  },
  "language_info": {
   "codemirror_mode": {
    "name": "ipython",
    "version": 3
   },
   "file_extension": ".py",
   "mimetype": "text/x-python",
   "name": "python",
   "nbconvert_exporter": "python",
   "pygments_lexer": "ipython3",
   "version": "3.10.9"
  },
  "orig_nbformat": 4
 },
 "nbformat": 4,
 "nbformat_minor": 2
}
