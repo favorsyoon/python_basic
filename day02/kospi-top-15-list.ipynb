{
 "cells": [
  {
   "cell_type": "code",
   "execution_count": 11,
   "metadata": {},
   "outputs": [
    {
     "name": "stdout",
     "output_type": "stream",
     "text": [
      "Requirement already satisfied: selenium in c:\\users\\enter\\miniconda3\\lib\\site-packages (4.8.3)\n",
      "Requirement already satisfied: trio~=0.17 in c:\\users\\enter\\miniconda3\\lib\\site-packages (from selenium) (0.22.0)\n",
      "Requirement already satisfied: urllib3[socks]~=1.26 in c:\\users\\enter\\miniconda3\\lib\\site-packages (from selenium) (1.26.14)\n",
      "Requirement already satisfied: trio-websocket~=0.9 in c:\\users\\enter\\miniconda3\\lib\\site-packages (from selenium) (0.10.2)\n",
      "Requirement already satisfied: certifi>=2021.10.8 in c:\\users\\enter\\miniconda3\\lib\\site-packages (from selenium) (2022.12.7)\n",
      "Requirement already satisfied: idna in c:\\users\\enter\\miniconda3\\lib\\site-packages (from trio~=0.17->selenium) (3.4)\n",
      "Requirement already satisfied: cffi>=1.14 in c:\\users\\enter\\miniconda3\\lib\\site-packages (from trio~=0.17->selenium) (1.15.1)\n",
      "Requirement already satisfied: outcome in c:\\users\\enter\\miniconda3\\lib\\site-packages (from trio~=0.17->selenium) (1.2.0)\n",
      "Requirement already satisfied: exceptiongroup>=1.0.0rc9 in c:\\users\\enter\\miniconda3\\lib\\site-packages (from trio~=0.17->selenium) (1.1.1)\n",
      "Requirement already satisfied: sniffio in c:\\users\\enter\\miniconda3\\lib\\site-packages (from trio~=0.17->selenium) (1.3.0)\n",
      "Requirement already satisfied: attrs>=19.2.0 in c:\\users\\enter\\miniconda3\\lib\\site-packages (from trio~=0.17->selenium) (22.2.0)\n",
      "Requirement already satisfied: sortedcontainers in c:\\users\\enter\\miniconda3\\lib\\site-packages (from trio~=0.17->selenium) (2.4.0)\n",
      "Requirement already satisfied: async-generator>=1.9 in c:\\users\\enter\\miniconda3\\lib\\site-packages (from trio~=0.17->selenium) (1.10)\n",
      "Requirement already satisfied: wsproto>=0.14 in c:\\users\\enter\\miniconda3\\lib\\site-packages (from trio-websocket~=0.9->selenium) (1.2.0)\n",
      "Requirement already satisfied: PySocks!=1.5.7,<2.0,>=1.5.6 in c:\\users\\enter\\miniconda3\\lib\\site-packages (from urllib3[socks]~=1.26->selenium) (1.7.1)\n",
      "Requirement already satisfied: pycparser in c:\\users\\enter\\miniconda3\\lib\\site-packages (from cffi>=1.14->trio~=0.17->selenium) (2.21)\n",
      "Requirement already satisfied: h11<1,>=0.9.0 in c:\\users\\enter\\miniconda3\\lib\\site-packages (from wsproto>=0.14->trio-websocket~=0.9->selenium) (0.14.0)\n",
      "4.8.3\n"
     ]
    }
   ],
   "source": [
    "!pip install selenium\n",
    "import selenium\n",
    "print(selenium.__version__)\n",
    "\n",
    "import time #time.sleep()쓰기 위함 \n",
    "from selenium import webdriver  #webdriver 쓰기 위함 \n",
    "from selenium.webdriver.chrome.options import Options  #이 코드라인이 없으면, 에러가 나온다. \n",
    "\n",
    "# 크롬 옵션 headless 모드로 실행\n",
    "options = Options()\n",
    "options.add_argument('--headless')\n",
    "\n",
    "# 크롬 드라이버 경로 지정\n",
    "driver_path = 'chromedriver'\n",
    "\n",
    "# 크롬 드라이버 객체 생성\n",
    "driver = webdriver.Chrome(executable_path=driver_path, options=options)\n",
    "\n",
    "\n"
   ]
  },
  {
   "attachments": {},
   "cell_type": "markdown",
   "metadata": {},
   "source": [
    "## 1. 한국거래소 사이트 요청"
   ]
  },
  {
   "cell_type": "code",
   "execution_count": 5,
   "metadata": {},
   "outputs": [],
   "source": [
    " # 웹페이지 요청 코스피 TOP 15\n",
    "url = 'http://data.krx.co.kr/contents/MDC/MDI/mdiLoader/index.cmd?menuId=MDC0201020101'\n",
    "driver.get(url)\n",
    "time.sleep(2)\n",
    "from selenium.webdriver.common.by import By"
   ]
  },
  {
   "attachments": {},
   "cell_type": "markdown",
   "metadata": {},
   "source": [
    "## 2. 전 종목 등락률 클릭이 필요\n",
    "\n",
    "- 클릭시 2초이상 필요"
   ]
  },
  {
   "cell_type": "code",
   "execution_count": null,
   "metadata": {},
   "outputs": [],
   "source": [
    "<a href=\"javascript:void(0);\" data-menu-id=\"MDC0201020101\" class=\"CI-MDI-MENU\">전종목 시세</a>"
   ]
  },
  {
   "cell_type": "code",
   "execution_count": 6,
   "metadata": {},
   "outputs": [],
   "source": [
    "import time #time.sleep()쓰기 위함 \n",
    "from selenium import webdriver  #webdriver 쓰기 위함 \n",
    "from selenium.webdriver.chrome.options import Options  #이 코드라인이 없으면, 에러가 나온다. \n",
    "\n",
    "# 크롬 옵션 headless 모드로 실행\n",
    "options = Options()\n",
    "options.add_argument('--incognito')\n",
    "options.add_argument('--window-size=1920,1080')\n",
    "\n",
    "\n",
    "# 크롬 드라이버 경로 지정\n",
    "driver_path = 'chromedriver'\n",
    "\n",
    "# 크롬 드라이버 객체 생성\n",
    "driver = webdriver.Chrome(executable_path=driver_path, options=options)\n",
    "\n",
    " # 웹페이지 요청 코스피 TOP 15\n",
    "url = 'http://data.krx.co.kr/contents/MDC/MDI/mdiLoader/index.cmd?menuId=MDC0201020101'\n",
    "driver.get(url)\n",
    "time.sleep(2)\n",
    "\n",
    "\n",
    "from selenium.webdriver.common.by import By\n",
    "\n",
    "parent = driver.find_element(By.CLASS_NAME, 'CI-MDI-MENU-LIST-PARENT')\n",
    "link = parent.find_element(By.CSS_SELECTOR, 'a[data-menu-id=\"MDC0201020102\"]').click()\n",
    "time.sleep(5)"
   ]
  },
  {
   "attachments": {},
   "cell_type": "markdown",
   "metadata": {},
   "source": [
    "### 3. 1일 클릭후 조회 버튼 클릭\n",
    "\n",
    "- 클릭시 2초이상 필요"
   ]
  },
  {
   "cell_type": "code",
   "execution_count": null,
   "metadata": {},
   "outputs": [],
   "source": [
    "<div class=\"cal-wrap\"><div class=\"cal-area\"><input type=\"text\" name=\"strtDd\" id=\"strdDd\" value=\"20230411\" maxlength=\"8\"><span>~</span><input type=\"text\" name=\"endDd\" id=\"endDd\" value=\"20230419\" maxlength=\"8\"><button type=\"button\" class=\"cal-btn-open\" data-calendar-module=\"true\" data-calendar-display=\"false\">달력열기</button><button type=\"button\" class=\"cal-btn-range1d on\">1일</button><button type=\"button\" class=\"cal-btn-range1m\">1개월</button><button type=\"button\" class=\"cal-btn-range6m\">6개월</button><button type=\"button\" class=\"cal-btn-range1y\">1년</button></div></div>"
   ]
  },
  {
   "cell_type": "code",
   "execution_count": 32,
   "metadata": {},
   "outputs": [
    {
     "ename": "NoSuchElementException",
     "evalue": "Message: no such element: Unable to locate element: {\"method\":\"css selector\",\"selector\":\"button[class=\"cal-btn-range1d on\"]\"}\n  (Session info: chrome=112.0.5615.121)\nStacktrace:\nBacktrace:\n\tGetHandleVerifier [0x0062DCE3+50899]\n\t(No symbol) [0x005BE111]\n\t(No symbol) [0x004C5588]\n\t(No symbol) [0x004F08F9]\n\t(No symbol) [0x004F0AFB]\n\t(No symbol) [0x0051F902]\n\t(No symbol) [0x0050B944]\n\t(No symbol) [0x0051E01C]\n\t(No symbol) [0x0050B6F6]\n\t(No symbol) [0x004E7708]\n\t(No symbol) [0x004E886D]\n\tGetHandleVerifier [0x00893EAE+2566302]\n\tGetHandleVerifier [0x008C92B1+2784417]\n\tGetHandleVerifier [0x008C327C+2759788]\n\tGetHandleVerifier [0x006C5740+672048]\n\t(No symbol) [0x005C8872]\n\t(No symbol) [0x005C41C8]\n\t(No symbol) [0x005C42AB]\n\t(No symbol) [0x005B71B7]\n\tBaseThreadInitThunk [0x76430099+25]\n\tRtlGetAppContainerNamedObjectPath [0x77C67B6E+286]\n\tRtlGetAppContainerNamedObjectPath [0x77C67B3E+238]\n",
     "output_type": "error",
     "traceback": [
      "\u001b[1;31m---------------------------------------------------------------------------\u001b[0m",
      "\u001b[1;31mNoSuchElementException\u001b[0m                    Traceback (most recent call last)",
      "Cell \u001b[1;32mIn[32], line 30\u001b[0m\n\u001b[0;32m     28\u001b[0m time\u001b[39m.\u001b[39msleep(\u001b[39m5\u001b[39m)\n\u001b[0;32m     29\u001b[0m one_day_button_parent \u001b[39m=\u001b[39m driver\u001b[39m.\u001b[39mfind_element(By\u001b[39m.\u001b[39mCLASS_NAME, \u001b[39m'\u001b[39m\u001b[39mcal-area\u001b[39m\u001b[39m'\u001b[39m)\n\u001b[1;32m---> 30\u001b[0m one_day_button \u001b[39m=\u001b[39m driver\u001b[39m.\u001b[39;49mfind_element(By\u001b[39m.\u001b[39;49mCSS_SELECTOR, \u001b[39m'\u001b[39;49m\u001b[39mbutton[class=\u001b[39;49m\u001b[39m\"\u001b[39;49m\u001b[39mcal-btn-range1d on\u001b[39;49m\u001b[39m\"\u001b[39;49m\u001b[39m]\u001b[39;49m\u001b[39m'\u001b[39;49m)\n\u001b[0;32m     31\u001b[0m one_day_button\u001b[39m.\u001b[39mclick()\n\u001b[0;32m     34\u001b[0m search_button \u001b[39m=\u001b[39m driver\u001b[39m.\u001b[39mfind_element(By\u001b[39m.\u001b[39mCSS_SELECTOR, \u001b[39m'\u001b[39m\u001b[39ma[id=\u001b[39m\u001b[39m\"\u001b[39m\u001b[39mjsSearchButton\u001b[39m\u001b[39m\"\u001b[39m\u001b[39m]\u001b[39m\u001b[39m'\u001b[39m)\n",
      "File \u001b[1;32mc:\\Users\\enter\\miniconda3\\lib\\site-packages\\selenium\\webdriver\\remote\\webdriver.py:831\u001b[0m, in \u001b[0;36mWebDriver.find_element\u001b[1;34m(self, by, value)\u001b[0m\n\u001b[0;32m    828\u001b[0m     by \u001b[39m=\u001b[39m By\u001b[39m.\u001b[39mCSS_SELECTOR\n\u001b[0;32m    829\u001b[0m     value \u001b[39m=\u001b[39m \u001b[39mf\u001b[39m\u001b[39m'\u001b[39m\u001b[39m[name=\u001b[39m\u001b[39m\"\u001b[39m\u001b[39m{\u001b[39;00mvalue\u001b[39m}\u001b[39;00m\u001b[39m\"\u001b[39m\u001b[39m]\u001b[39m\u001b[39m'\u001b[39m\n\u001b[1;32m--> 831\u001b[0m \u001b[39mreturn\u001b[39;00m \u001b[39mself\u001b[39;49m\u001b[39m.\u001b[39;49mexecute(Command\u001b[39m.\u001b[39;49mFIND_ELEMENT, {\u001b[39m\"\u001b[39;49m\u001b[39musing\u001b[39;49m\u001b[39m\"\u001b[39;49m: by, \u001b[39m\"\u001b[39;49m\u001b[39mvalue\u001b[39;49m\u001b[39m\"\u001b[39;49m: value})[\u001b[39m\"\u001b[39m\u001b[39mvalue\u001b[39m\u001b[39m\"\u001b[39m]\n",
      "File \u001b[1;32mc:\\Users\\enter\\miniconda3\\lib\\site-packages\\selenium\\webdriver\\remote\\webdriver.py:440\u001b[0m, in \u001b[0;36mWebDriver.execute\u001b[1;34m(self, driver_command, params)\u001b[0m\n\u001b[0;32m    438\u001b[0m response \u001b[39m=\u001b[39m \u001b[39mself\u001b[39m\u001b[39m.\u001b[39mcommand_executor\u001b[39m.\u001b[39mexecute(driver_command, params)\n\u001b[0;32m    439\u001b[0m \u001b[39mif\u001b[39;00m response:\n\u001b[1;32m--> 440\u001b[0m     \u001b[39mself\u001b[39;49m\u001b[39m.\u001b[39;49merror_handler\u001b[39m.\u001b[39;49mcheck_response(response)\n\u001b[0;32m    441\u001b[0m     response[\u001b[39m\"\u001b[39m\u001b[39mvalue\u001b[39m\u001b[39m\"\u001b[39m] \u001b[39m=\u001b[39m \u001b[39mself\u001b[39m\u001b[39m.\u001b[39m_unwrap_value(response\u001b[39m.\u001b[39mget(\u001b[39m\"\u001b[39m\u001b[39mvalue\u001b[39m\u001b[39m\"\u001b[39m, \u001b[39mNone\u001b[39;00m))\n\u001b[0;32m    442\u001b[0m     \u001b[39mreturn\u001b[39;00m response\n",
      "File \u001b[1;32mc:\\Users\\enter\\miniconda3\\lib\\site-packages\\selenium\\webdriver\\remote\\errorhandler.py:245\u001b[0m, in \u001b[0;36mErrorHandler.check_response\u001b[1;34m(self, response)\u001b[0m\n\u001b[0;32m    243\u001b[0m         alert_text \u001b[39m=\u001b[39m value[\u001b[39m\"\u001b[39m\u001b[39malert\u001b[39m\u001b[39m\"\u001b[39m]\u001b[39m.\u001b[39mget(\u001b[39m\"\u001b[39m\u001b[39mtext\u001b[39m\u001b[39m\"\u001b[39m)\n\u001b[0;32m    244\u001b[0m     \u001b[39mraise\u001b[39;00m exception_class(message, screen, stacktrace, alert_text)  \u001b[39m# type: ignore[call-arg]  # mypy is not smart enough here\u001b[39;00m\n\u001b[1;32m--> 245\u001b[0m \u001b[39mraise\u001b[39;00m exception_class(message, screen, stacktrace)\n",
      "\u001b[1;31mNoSuchElementException\u001b[0m: Message: no such element: Unable to locate element: {\"method\":\"css selector\",\"selector\":\"button[class=\"cal-btn-range1d on\"]\"}\n  (Session info: chrome=112.0.5615.121)\nStacktrace:\nBacktrace:\n\tGetHandleVerifier [0x0062DCE3+50899]\n\t(No symbol) [0x005BE111]\n\t(No symbol) [0x004C5588]\n\t(No symbol) [0x004F08F9]\n\t(No symbol) [0x004F0AFB]\n\t(No symbol) [0x0051F902]\n\t(No symbol) [0x0050B944]\n\t(No symbol) [0x0051E01C]\n\t(No symbol) [0x0050B6F6]\n\t(No symbol) [0x004E7708]\n\t(No symbol) [0x004E886D]\n\tGetHandleVerifier [0x00893EAE+2566302]\n\tGetHandleVerifier [0x008C92B1+2784417]\n\tGetHandleVerifier [0x008C327C+2759788]\n\tGetHandleVerifier [0x006C5740+672048]\n\t(No symbol) [0x005C8872]\n\t(No symbol) [0x005C41C8]\n\t(No symbol) [0x005C42AB]\n\t(No symbol) [0x005B71B7]\n\tBaseThreadInitThunk [0x76430099+25]\n\tRtlGetAppContainerNamedObjectPath [0x77C67B6E+286]\n\tRtlGetAppContainerNamedObjectPath [0x77C67B3E+238]\n"
     ]
    }
   ],
   "source": [
    "import time #time.sleep()쓰기 위함 \n",
    "from selenium import webdriver  #webdriver 쓰기 위함 \n",
    "from selenium.webdriver.chrome.options import Options  #이 코드라인이 없으면, 에러가 나온다. \n",
    "\n",
    "# 크롬 옵션 headless 모드로 실행\n",
    "options = Options()\n",
    "options.add_argument('--incognito')\n",
    "options.add_argument('--window-size=1920,1080')\n",
    "\n",
    "\n",
    "# 크롬 드라이버 경로 지정\n",
    "driver_path = 'chromedriver'\n",
    "\n",
    "# 크롬 드라이버 객체 생성\n",
    "driver = webdriver.Chrome(executable_path=driver_path, options=options)\n",
    "\n",
    " # 웹페이지 요청 코스피 TOP 15\n",
    "url = 'http://data.krx.co.kr/contents/MDC/MDI/mdiLoader/index.cmd?menuId=MDC0201020101'\n",
    "driver.get(url)\n",
    "time.sleep(2)\n",
    "\n",
    "\n",
    "from selenium.webdriver.common.by import By\n",
    "\n",
    "parent = driver.find_element(By.CLASS_NAME, 'CI-MDI-MENU-LIST-PARENT')\n",
    "link = parent.find_element(By.CSS_SELECTOR, 'a[data-menu-id=\"MDC0201020102\"]').click()\n",
    "\n",
    "time.sleep(5)\n",
    "one_day_button_parent = driver.find_element(By.CLASS_NAME, 'cal-area')\n",
    "one_day_button = driver.find_element(By.CSS_SELECTOR, 'button[class=\"cal-btn-range1d on\"]')\n",
    "one_day_button.click()\n",
    "\n",
    "\n",
    "search_button = driver.find_element(By.CSS_SELECTOR, 'a[id=\"jsSearchButton\"]')\n",
    "search_button.click()\n",
    "time.sleep(2)\n"
   ]
  },
  {
   "attachments": {},
   "cell_type": "markdown",
   "metadata": {},
   "source": [
    "#### GPT 4  해결 내용 \n",
    "\n",
    "- CSS_SELECTOR 대신 BY.XPATH로 버튼을 찾지 못하는 문제를 스무스하게 해결\n",
    "\n",
    "- from selenium.webdriver.support.ui import WebDriverWait\n",
    "- from selenium.webdriver.support import expected_conditions as EC\n",
    "\n"
   ]
  },
  {
   "cell_type": "code",
   "execution_count": 39,
   "metadata": {},
   "outputs": [],
   "source": [
    "import time\n",
    "from selenium import webdriver\n",
    "from selenium.webdriver.chrome.options import Options\n",
    "from selenium.webdriver.common.by import By\n",
    "from selenium.webdriver.support.ui import WebDriverWait\n",
    "from selenium.webdriver.support import expected_conditions as EC\n",
    "\n",
    "options = Options()\n",
    "options.add_argument('--incognito')\n",
    "options.add_argument('--window-size=1920,1080')\n",
    "\n",
    "driver_path = 'chromedriver'\n",
    "driver = webdriver.Chrome(executable_path=driver_path, options=options)\n",
    "\n",
    "url = 'http://data.krx.co.kr/contents/MDC/MDI/mdiLoader/index.cmd?menuId=MDC0201020101'\n",
    "driver.get(url)\n",
    "time.sleep(2)\n",
    "\n",
    "parent = driver.find_element(By.CLASS_NAME, 'CI-MDI-MENU-LIST-PARENT')\n",
    "link = parent.find_element(By.CSS_SELECTOR, 'a[data-menu-id=\"MDC0201020102\"]').click()\n",
    "\n",
    "time.sleep(5)\n",
    "\n",
    "one_day_button_parent = driver.find_element(By.CLASS_NAME, 'cal-area')\n",
    "\n",
    "# Use WebDriverWait to wait for the element to be present\n",
    "wait = WebDriverWait(driver, 10)  # Timeout of 10 seconds\n",
    "one_day_button = wait.until(EC.presence_of_element_located((By.XPATH, '//button[contains(text(), \"1일\")]')))\n",
    "one_day_button.click()\n",
    "\n",
    "\n",
    "search_button = driver.find_element(By.XPATH, '//a[@id=\"jsSearchButton\"]')\n",
    "driver.execute_script(\"arguments[0].click();\", search_button)\n",
    "\n",
    "\n",
    "\n",
    "time.sleep(2)\n"
   ]
  },
  {
   "attachments": {},
   "cell_type": "markdown",
   "metadata": {},
   "source": [
    "### 4. 등락률 순으로 조회하는 버튼 클릭"
   ]
  },
  {
   "attachments": {},
   "cell_type": "markdown",
   "metadata": {},
   "source": [
    "### 5. header \n",
    "\n",
    "- 종목명\n",
    "- 등락률\n",
    "- 거래량\n",
    "- 거래대금\n"
   ]
  },
  {
   "attachments": {},
   "cell_type": "markdown",
   "metadata": {},
   "source": [
    "### 6. row for문으로 "
   ]
  },
  {
   "attachments": {},
   "cell_type": "markdown",
   "metadata": {},
   "source": [
    "### 7. 15% 까지만"
   ]
  },
  {
   "attachments": {},
   "cell_type": "markdown",
   "metadata": {},
   "source": [
    "### 8. 엑셀로 저장"
   ]
  },
  {
   "attachments": {},
   "cell_type": "markdown",
   "metadata": {},
   "source": [
    "### 9. 장마감후 오후 4시에 크롤링 시작 후 텔레그램 채널로 자동으로 보내기"
   ]
  }
 ],
 "metadata": {
  "kernelspec": {
   "display_name": "base",
   "language": "python",
   "name": "python3"
  },
  "language_info": {
   "codemirror_mode": {
    "name": "ipython",
    "version": 3
   },
   "file_extension": ".py",
   "mimetype": "text/x-python",
   "name": "python",
   "nbconvert_exporter": "python",
   "pygments_lexer": "ipython3",
   "version": "3.10.9"
  },
  "orig_nbformat": 4
 },
 "nbformat": 4,
 "nbformat_minor": 2
}
