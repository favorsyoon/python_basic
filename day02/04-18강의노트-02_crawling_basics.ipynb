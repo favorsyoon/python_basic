{
 "cells": [
  {
   "cell_type": "code",
   "execution_count": 1,
   "metadata": {},
   "outputs": [
    {
     "name": "stdout",
     "output_type": "stream",
     "text": [
      "Requirement already satisfied: selenium in c:\\users\\cecim\\miniconda3\\lib\\site-packages (4.8.3)\n",
      "Requirement already satisfied: certifi>=2021.10.8 in c:\\users\\cecim\\miniconda3\\lib\\site-packages (from selenium) (2022.12.7)\n",
      "Requirement already satisfied: trio~=0.17 in c:\\users\\cecim\\miniconda3\\lib\\site-packages (from selenium) (0.22.0)\n",
      "Requirement already satisfied: urllib3[socks]~=1.26 in c:\\users\\cecim\\miniconda3\\lib\\site-packages (from selenium) (1.26.14)\n",
      "Requirement already satisfied: trio-websocket~=0.9 in c:\\users\\cecim\\miniconda3\\lib\\site-packages (from selenium) (0.10.2)\n",
      "Requirement already satisfied: attrs>=19.2.0 in c:\\users\\cecim\\appdata\\roaming\\python\\python310\\site-packages (from trio~=0.17->selenium) (22.2.0)\n",
      "Requirement already satisfied: async-generator>=1.9 in c:\\users\\cecim\\miniconda3\\lib\\site-packages (from trio~=0.17->selenium) (1.10)\n",
      "Requirement already satisfied: cffi>=1.14 in c:\\users\\cecim\\appdata\\roaming\\python\\python310\\site-packages (from trio~=0.17->selenium) (1.15.1)\n",
      "Requirement already satisfied: sortedcontainers in c:\\users\\cecim\\miniconda3\\lib\\site-packages (from trio~=0.17->selenium) (2.4.0)\n",
      "Requirement already satisfied: sniffio in c:\\users\\cecim\\appdata\\roaming\\python\\python310\\site-packages (from trio~=0.17->selenium) (1.3.0)\n",
      "Requirement already satisfied: idna in c:\\users\\cecim\\appdata\\roaming\\python\\python310\\site-packages (from trio~=0.17->selenium) (3.4)\n",
      "Requirement already satisfied: exceptiongroup>=1.0.0rc9 in c:\\users\\cecim\\miniconda3\\lib\\site-packages (from trio~=0.17->selenium) (1.1.1)\n",
      "Requirement already satisfied: outcome in c:\\users\\cecim\\miniconda3\\lib\\site-packages (from trio~=0.17->selenium) (1.2.0)\n",
      "Requirement already satisfied: wsproto>=0.14 in c:\\users\\cecim\\miniconda3\\lib\\site-packages (from trio-websocket~=0.9->selenium) (1.2.0)\n",
      "Requirement already satisfied: PySocks!=1.5.7,<2.0,>=1.5.6 in c:\\users\\cecim\\miniconda3\\lib\\site-packages (from urllib3[socks]~=1.26->selenium) (1.7.1)\n",
      "Requirement already satisfied: pycparser in c:\\users\\cecim\\appdata\\roaming\\python\\python310\\site-packages (from cffi>=1.14->trio~=0.17->selenium) (2.21)\n",
      "Requirement already satisfied: h11<1,>=0.9.0 in c:\\users\\cecim\\miniconda3\\lib\\site-packages (from wsproto>=0.14->trio-websocket~=0.9->selenium) (0.14.0)\n"
     ]
    },
    {
     "name": "stderr",
     "output_type": "stream",
     "text": [
      "\n",
      "[notice] A new release of pip is available: 23.0.1 -> 23.1\n",
      "[notice] To update, run: python.exe -m pip install --upgrade pip\n"
     ]
    }
   ],
   "source": [
    "!pip install selenium"
   ]
  },
  {
   "cell_type": "code",
   "execution_count": 47,
   "metadata": {},
   "outputs": [],
   "source": [
    "# 해당 경로에 있는 chromedriver를 불러옵니다.\n",
    "from selenium import webdriver\n",
    "import time\n",
    "from selenium.webdriver.common.by import By\n",
    "\n",
    "\n",
    "# opinet.co.kr에 접속합니다.\n",
    "browser = webdriver.Chrome('chromedriver')\n",
    "url = 'https://www.naver.com'\n",
    "browser.get(url)\n",
    "\n",
    "# 필요한 자바스크립트 파일을 불러옵니다.\n",
    "\n",
    "# 2초 쉽니다. (페이지 로딩을 위해)\n",
    "time.sleep(2)"
   ]
  },
  {
   "cell_type": "code",
   "execution_count": 48,
   "metadata": {},
   "outputs": [],
   "source": [
    "# (1) 검색창 클릭\n",
    "# (2) 검색창에 단어(날씨)를 입력 => .send_keys()\n",
    "# (3) 검색창 아이콘 클릭\n",
    "import time\n",
    "browser.find_element(By.ID, 'query').click()\n",
    "time.sleep(2)\n",
    "browser.find_element(By.ID, 'query').send_keys('날씨')\n",
    "time.sleep(2)\n",
    "browser.find_element(By.ID, 'search_btn').click()"
   ]
  },
  {
   "cell_type": "code",
   "execution_count": 54,
   "metadata": {},
   "outputs": [
    {
     "data": {
      "text/plain": [
       "'12.'"
      ]
     },
     "execution_count": 54,
     "metadata": {},
     "output_type": "execute_result"
    }
   ],
   "source": [
    "before_temp = browser.find_element(By.CLASS_NAME, 'temperature_text').text\n",
    "temp = before_temp.split(\"\\n\")[1][:-1]\n",
    "temp[:-1]"
   ]
  },
  {
   "cell_type": "code",
   "execution_count": 61,
   "metadata": {},
   "outputs": [
    {
     "name": "stdout",
     "output_type": "stream",
     "text": [
      "12.3° 92% 0.7m/s\n"
     ]
    }
   ],
   "source": [
    "# browser.find_element(By.CLASS_NAME, 'desc').text\n",
    "data = browser.find_element(By.CLASS_NAME, 'summary_list').text\n",
    "data = data.split(\" \")\n",
    "\n",
    "temp = data[1]\n",
    "hum = data[3]\n",
    "wind = data[5]\n",
    "\n",
    "print(temp, hum, wind)"
   ]
  },
  {
   "cell_type": "code",
   "execution_count": 70,
   "metadata": {},
   "outputs": [
    {
     "name": "stdout",
     "output_type": "stream",
     "text": [
      "체감\n",
      "습도\n",
      "남풍\n"
     ]
    }
   ],
   "source": [
    "parent = browser.find_element(By.CLASS_NAME, 'summary_list')\n",
    "child_list = parent.find_elements(By.TAG_NAME, 'dt')\n",
    "\n",
    "child_list\n",
    "\n",
    "\n",
    "for child in child_list:\n",
    "    # print(child.find_element(By.CLASS_NAME, 'term').text) # 잘 못찾음. 그냥 아래의 코드로 대체.\n",
    "    print(child.text)"
   ]
  },
  {
   "attachments": {},
   "cell_type": "markdown",
   "metadata": {},
   "source": [
    "# 네이버 증권\n",
    "- 코스피, 코스닥 데이터 가져오기"
   ]
  },
  {
   "cell_type": "code",
   "execution_count": 74,
   "metadata": {},
   "outputs": [
    {
     "name": "stdout",
     "output_type": "stream",
     "text": [
      "2,571.09 4.82\n",
      "-\n",
      "0.19%\n",
      "하락 \n",
      "\n",
      "909.02 0.48\n",
      "-\n",
      "0.05%\n",
      "하락 \n",
      "\n",
      "333.50 0.42\n",
      "-\n",
      "0.13%\n",
      "하락 \n",
      "\n"
     ]
    }
   ],
   "source": [
    "# # 해당 경로에 있는 chromedriver를 불러옵니다.\n",
    "# from selenium import webdriver\n",
    "# import time\n",
    "# from selenium.webdriver.common.by import By\n",
    "\n",
    "# # naver finance에 접속합니다.\n",
    "# browser = webdriver.Chrome('chromedriver')\n",
    "# url = 'https://finance.naver.com'\n",
    "# browser.get(url)\n",
    "\n",
    "# # 코스피 지수 정보가 있는 요소를 찾습니다.\n",
    "# kospi_info = browser.find_element(By.XPATH, '//*[@id=\"content\"]/div[1]/div[2]/div[1]/div[1]/h4/a')\n",
    "\n",
    "# # 코스피 지수 정보가 담긴 요소에서 텍스트를 추출합니다.\n",
    "# kospi_text = kospi_info.text\n",
    "\n",
    "# # 추출한 코스피 지수를 출력합니다.\n",
    "# print('코스피 지수:', kospi_text)\n",
    "\n",
    "# # 2초 쉽니다. (페이지 로딩을 위해)\n",
    "# time.sleep(2)\n",
    "\n",
    "# # 브라우저를 종료합니다.\n",
    "# browser.quit()\n",
    "\n",
    "\n",
    "url = 'https://finance.naver.com'\n",
    "browser.get(url)\n",
    "\n",
    "datas = browser.find_elements(By.CLASS_NAME, 'num_quot')\n",
    "\n",
    "for elem in datas:\n",
    "    print(elem.text, \"\\n\")\n",
    "\n"
   ]
  },
  {
   "cell_type": "code",
   "execution_count": 75,
   "metadata": {},
   "outputs": [
    {
     "name": "stdout",
     "output_type": "stream",
     "text": [
      "이트론 324\n",
      "상승\n",
      "59 +22.26% \n",
      "\n",
      "이아이디 2,445\n",
      "상승\n",
      "150 +6.54% \n",
      "\n",
      "KODEX 200선물인버스2X 2,620\n",
      "상승\n",
      "10 +0.38% \n",
      "\n",
      "크리스탈신소재 2,025\n",
      "상승\n",
      "466 +29.89% \n",
      "\n",
      "조일알미늄 3,945\n",
      "상승\n",
      "545 +16.03% \n",
      "\n",
      "대한전선 1,716\n",
      "상승\n",
      "12 +0.70% \n",
      "\n",
      "포스코DX 16,940\n",
      "상승\n",
      "1,340 +8.59% \n",
      "\n",
      "이화전기 1,535\n",
      "상승\n",
      "354 +29.97% \n",
      "\n",
      "소니드 7,000\n",
      "상승\n",
      "1,160 +19.86% \n",
      "\n",
      "한국ANKOR유전 428\n",
      "하락\n",
      "41 -8.74% \n",
      "\n",
      "레이크머티리얼즈 15,600\n",
      "상승\n",
      "2,720 +21.12% \n",
      "\n",
      "KODEX 코스닥150선물인버스 3,885\n",
      "상승\n",
      "10 +0.26% \n",
      "\n",
      "이스트아시아홀딩스 181\n",
      "상승\n",
      "10 +5.85% \n",
      "\n",
      "동국산업 10,750\n",
      "상승\n",
      "2,160 +25.15% \n",
      "\n",
      "오가닉티코스메틱 225\n",
      "상승\n",
      "1 +0.45% \n",
      "\n"
     ]
    }
   ],
   "source": [
    "# parent = browser.find_element(By.ID, '_topItems1')\n",
    "# childs = parent.find_element(By.TAG_NAME, 'tr')\n",
    "\n",
    "# for child in childs:\n",
    "#     print(child.text, \"\\n\")\n",
    "\n",
    "\n",
    "parent = browser.find_element(By.ID, '_topItems1')\n",
    "childs = parent.find_elements(By.TAG_NAME, 'tr')\n",
    "\n",
    "for child in childs:\n",
    "    print(child.text, \"\\n\")\n"
   ]
  },
  {
   "attachments": {},
   "cell_type": "markdown",
   "metadata": {},
   "source": [
    "구글 뉴스 크롤링\n",
    "\n"
   ]
  },
  {
   "cell_type": "code",
   "execution_count": 78,
   "metadata": {},
   "outputs": [],
   "source": [
    "# 1단계 : 1건의 뉴스 데이터 가져오기\n",
    "# - 뉴스 제목 / 뉴스 내용 / 뉴스 링크 / 신문사\n",
    "\n",
    "url = 'https://news.google.com/search?q=%EC%9D%B8%EA%B3%B5%EC%A7%80%EB%8A%A5&hl=ko&gl=KR&ceid=KR%3Ako'\n",
    "browser.get(url)\n",
    "\n",
    "\n",
    "\n",
    "# title = browser.find_element(By.CLASS_NAME, 'ipQwMb').text\n",
    "# link = browser.find_element(By.CLASS_NAME, 'VDXfz').get_attribute('href')\n",
    "# company = browser.find_element(By.CLASS_NAME, 'lqNvvd').get_attribute('alt')"
   ]
  },
  {
   "cell_type": "code",
   "execution_count": 82,
   "metadata": {},
   "outputs": [
    {
     "name": "stdout",
     "output_type": "stream",
     "text": [
      "인공지능에 '말도 많고 탈도 많았던' 일론 머스크, 실리콘밸리에 'X.AI' 인공지능 회사 설립...생성 AI 시장에 시동? https://news.google.com/articles/CBMiOGh0dHBzOi8vd3d3LmFpdGltZXMua3IvbmV3cy9hcnRpY2xlVmlldy5odG1sP2lkeG5vPTI3Nzk50gEA?hl=ko&gl=KR&ceid=KR%3Ako 인공지능신문\n"
     ]
    }
   ],
   "source": [
    "# 2단계 : 12건의 뉴스 데이터 다 가져오기 (다건)\n",
    "# - 뉴스 제목 / 뉴스 내용 / 뉴스 링크 / 신문사 / 작성시간 / 이미지링크 \n",
    "\n",
    "title = browser.find_element(By.CLASS_NAME, 'ipQwMb').text\n",
    "link = browser.find_element(By.CLASS_NAME, 'VDXfz').get_attribute('href')\n",
    "company = browser.find_element(By.CLASS_NAME, 'lqNvvd').get_attribute('alt')\n",
    "print(title, link, company)"
   ]
  },
  {
   "cell_type": "code",
   "execution_count": 91,
   "metadata": {},
   "outputs": [
    {
     "name": "stdout",
     "output_type": "stream",
     "text": [
      "['https://news.google.com/articles/CBMiOGh0dHBzOi8vd3d3LmFpdGltZXMua3IvbmV3cy9hcnRpY2xlVmlldy5odG1sP2lkeG5vPTI3Nzk50gEA?hl=ko&gl=KR&ceid=KR%3Ako', 'https://news.google.com/articles/CBMiOmh0dHBzOi8vd3d3LmFpdGltZXMuY29tL25ld3MvYXJ0aWNsZVZpZXcuaHRtbD9pZHhubz0xNTA1NjPSAQA?hl=ko&gl=KR&ceid=KR%3Ako', 'https://news.google.com/articles/CBMiQmh0dHBzOi8vaW1uZXdzLmltYmMuY29tL25ld3MvMjAyMy93b3JsZC9hcnRpY2xlLzY0NzUxMTdfMzYxMzMuaHRtbNIBQmh0dHBzOi8vaW1uZXdzLmltYmMuY29tL25ld3MvMjAyMy93b3JsZC9hcnRpY2xlLzY0NzUxMTdfMzYxMzQuaHRtbA?hl=ko&gl=KR&ceid=KR%3Ako', 'https://news.google.com/articles/CBMiL2h0dHBzOi8vbmV3cy5rYnMuY28ua3IvbmV3cy92aWV3LmRvP25jZD03NjU0ODE40gEA?hl=ko&gl=KR&ceid=KR%3Ako', 'https://news.google.com/articles/CBMiOGh0dHBzOi8vd3d3LmFpdGltZXMua3IvbmV3cy9hcnRpY2xlVmlldy5odG1sP2lkeG5vPTI3ODIw0gEA?hl=ko&gl=KR&ceid=KR%3Ako', 'https://news.google.com/articles/CBMiMWh0dHA6Ly93d3cuYm9hbm5ld3MuY29tL21lZGlhL3ZpZXcuYXNwP2lkeD0xMTcyMjHSAQA?hl=ko&gl=KR&ceid=KR%3Ako', 'https://news.google.com/articles/CBMiMWh0dHBzOi8vd3d3LmJiYy5jb20va29yZWFuL2ludGVybmF0aW9uYWwtNjUyOTU4NTPSATVodHRwczovL3d3dy5iYmMuY29tL2tvcmVhbi9pbnRlcm5hdGlvbmFsLTY1Mjk1ODUzLmFtcA?hl=ko&gl=KR&ceid=KR%3Ako', 'https://news.google.com/articles/CBMiQmh0dHBzOi8vd3d3LnlvbmhhcG5ld3N0di5jby5rci9uZXdzL01ZSDIwMjMwNDE4MDE0NzAwNjQxP3NydD1sJmQ9WdIBAA?hl=ko&gl=KR&ceid=KR%3Ako', 'https://news.google.com/articles/CBMiKWh0dHBzOi8vYml6LnNicy5jby5rci9hcnRpY2xlLzIwMDAwMTEzODQy0gEtaHR0cHM6Ly9iaXouc2JzLmNvLmtyL2FtcC9hcnRpY2xlLzIwMDAwMTEzODQy?hl=ko&gl=KR&ceid=KR%3Ako', 'https://news.google.com/articles/CBMiJWh0dHBzOi8vd3d3LmV0bmV3cy5jb20vMjAyMzA0MTgwMDAyMjXSAQA?hl=ko&gl=KR&ceid=KR%3Ako', 'https://news.google.com/articles/CBMiQ2h0dHA6Ly93d3cuZHQuY28ua3IvY29udGVudHMuaHRtbD9hcnRpY2xlX25vPTIwMjMwNDE4MDIxMDk5NTgwNjMwMDXSAQA?hl=ko&gl=KR&ceid=KR%3Ako', 'https://news.google.com/articles/CBMiJWh0dHBzOi8vd3d3LmV0bmV3cy5jb20vMjAyMzA0MTAwMDAyNjfSAQA?hl=ko&gl=KR&ceid=KR%3Ako', 'https://news.google.com/articles/CBMiK2h0dHBzOi8vemRuZXQuY28ua3Ivdmlldy8_bm89MjAyMzA0MTgxNDQ1MjbSAQA?hl=ko&gl=KR&ceid=KR%3Ako', 'https://news.google.com/articles/CBMiSGh0dHBzOi8vd3d3LmtoYW4uY28ua3IvbmF0aW9uYWwvbmF0aW9uYWwtZ2VuZXJhbC9hcnRpY2xlLzIwMjMwNDE4MTIwMTAwMdIBAA?hl=ko&gl=KR&ceid=KR%3Ako', 'https://news.google.com/articles/CBMiLGh0dHBzOi8vbS5raGFuLmNvLmtyL2FydGljbGUvMjAyMzA0MTgxMjAxMDAx0gFKaHR0cHM6Ly9tLmtoYW4uY28ua3IvbmF0aW9uYWwvbmF0aW9uYWwtZ2VuZXJhbC9hcnRpY2xlLzIwMjMwNDE4MTIwMTAwMS9hbXA?hl=ko&gl=KR&ceid=KR%3Ako', 'https://news.google.com/articles/CBMiHmh0dHA6Ly93d3cucG1uZXdzLmNvLmtyLzExMDI1NdIBAA?hl=ko&gl=KR&ceid=KR%3Ako', 'https://news.google.com/articles/CBMiOGh0dHBzOi8vd3d3LmFpdGltZXMua3IvbmV3cy9hcnRpY2xlVmlldy5odG1sP2lkeG5vPTI3ODE10gEA?hl=ko&gl=KR&ceid=KR%3Ako', 'https://news.google.com/articles/CBMiMWh0dHBzOi8vd3d3LmhlbGxvdC5uZXQvbmV3cy9hcnRpY2xlLmh0bWw_bm89NzcxNzbSAQA?hl=ko&gl=KR&ceid=KR%3Ako', 'https://news.google.com/articles/CBMirwFodHRwczovL3d3dy5uZXdzcm8ua3IvJUVBJUIyJUJEJUVCJUI2JTgxJUVCJThGJTg0LWdvb2dsZS1jbG91ZCVFQyU5OSU4MC0lRUElQjglODAlRUIlQTElOUMlRUIlQjIlOEMtJUVDJTlEJUI4JUVBJUIzJUI1JUVDJUE3JTgwJUVCJThBJUE1LSVFQyU5RCVCOCVFQyU5RSVBQy0lRUMlOTYlOTElRUMlODQlQjEv0gEA?hl=ko&gl=KR&ceid=KR%3Ako', 'https://news.google.com/articles/CBMiOmh0dHBzOi8vd3d3LmJvYW5uZXdzLmNvbS9tZWRpYS92aWV3LmFzcD9pZHg9MTE3MjIxJnNraW5kPUTSAQA?hl=ko&gl=KR&ceid=KR%3Ako', 'https://news.google.com/articles/CBMiOGh0dHBzOi8vd3d3LmFpdGltZXMua3IvbmV3cy9hcnRpY2xlVmlldy5odG1sP2lkeG5vPTI3ODA30gEA?hl=ko&gl=KR&ceid=KR%3Ako', 'https://news.google.com/articles/CBMiOGh0dHBzOi8vd3d3LmFpdGltZXMua3IvbmV3cy9hcnRpY2xlVmlldy5odG1sP2lkeG5vPTI3ODA20gEA?hl=ko&gl=KR&ceid=KR%3Ako', 'https://news.google.com/articles/CBMiOGh0dHBzOi8vd3d3LmFpdGltZXMua3IvbmV3cy9hcnRpY2xlVmlldy5odG1sP2lkeG5vPTI3ODEx0gEA?hl=ko&gl=KR&ceid=KR%3Ako', 'https://news.google.com/articles/CBMiN2h0dHBzOi8vbmV3cy5tdC5jby5rci9tdHZpZXcucGhwP25vPTIwMjMwNDE4MTUxMTE5MzMzNjfSAT1odHRwczovL20ubXQuY28ua3IvcmVuZXcvdmlld19hbXAuaHRtbD9ubz0yMDIzMDQxODE1MTExOTMzMzY3?hl=ko&gl=KR&ceid=KR%3Ako', 'https://news.google.com/articles/CBMiM2h0dHBzOi8vd3d3LmhhbmkuY28ua3IvYXJ0aS9lY29ub215L2l0LzEwODgxMjEuaHRtbNIBAA?hl=ko&gl=KR&ceid=KR%3Ako', 'https://news.google.com/articles/CBMiJWh0dHBzOi8vd3d3LmV0bmV3cy5jb20vMjAyMzA0MTgwMDAyMDPSAQA?hl=ko&gl=KR&ceid=KR%3Ako', 'https://news.google.com/articles/CBMiOWh0dHA6Ly93d3cuamJuZXdzLmNvbS9uZXdzL2FydGljbGVWaWV3Lmh0bWw_aWR4bm89MTM5MTIxM9IBPGh0dHA6Ly93d3cuamJuZXdzLmNvbS9uZXdzL2FydGljbGVWaWV3QW1wLmh0bWw_aWR4bm89MTM5MTIxMw?hl=ko&gl=KR&ceid=KR%3Ako', 'https://news.google.com/articles/CBMiOGh0dHBzOi8vd3d3LmFpdGltZXMua3IvbmV3cy9hcnRpY2xlVmlldy5odG1sP2lkeG5vPTI3ODE00gEA?hl=ko&gl=KR&ceid=KR%3Ako', 'https://news.google.com/articles/CBMiQ2h0dHBzOi8vbS5oZWFsdGguY2hvc3VuLmNvbS9zdmMvbmV3c192aWV3Lmh0bWw_Y29udGlkPTIwMjMwNDE4MDEyMTnSAQA?hl=ko&gl=KR&ceid=KR%3Ako', 'https://news.google.com/articles/CBMiOGh0dHBzOi8vd3d3LnlvbmhhcG5ld3N0di5jby5rci9uZXdzL01ZSDIwMjMwNDE4MDE0NzAwNjQx0gEA?hl=ko&gl=KR&ceid=KR%3Ako', 'https://news.google.com/articles/CBMiOGh0dHBzOi8vd3d3LmFpdGltZXMua3IvbmV3cy9hcnRpY2xlVmlldy5odG1sP2lkeG5vPTI3ODAy0gEA?hl=ko&gl=KR&ceid=KR%3Ako', 'https://news.google.com/articles/CBMiPmh0dHA6Ly93d3cuZG9jdG9yc3RpbWVzLmNvbS9uZXdzL2FydGljbGVWaWV3Lmh0bWw_aWR4bm89MjIyNTU00gEA?hl=ko&gl=KR&ceid=KR%3Ako', 'https://news.google.com/articles/CBMiOGh0dHBzOi8vd3d3LmFpdGltZXMua3IvbmV3cy9hcnRpY2xlVmlldy5odG1sP2lkeG5vPTI3ODEz0gE7aHR0cHM6Ly93d3cuYWl0aW1lcy5rci9uZXdzL2FydGljbGVWaWV3QW1wLmh0bWw_aWR4bm89Mjc4MTM?hl=ko&gl=KR&ceid=KR%3Ako', 'https://news.google.com/articles/CBMiP2h0dHBzOi8vd3d3Lndpa2lsZWFrcy1rci5vcmcvbmV3cy9hcnRpY2xlVmlldy5odG1sP2lkeG5vPTEzNzQzOdIBAA?hl=ko&gl=KR&ceid=KR%3Ako', 'https://news.google.com/articles/CBMiOmh0dHBzOi8vd3d3Lm1hZHRpbWVzLm9yZy9uZXdzL2FydGljbGVWaWV3Lmh0bWw_aWR4bm89MTczODDSAQA?hl=ko&gl=KR&ceid=KR%3Ako', 'https://news.google.com/articles/CBMiOGh0dHBzOi8vd3d3LmFpdGltZXMua3IvbmV3cy9hcnRpY2xlVmlldy5odG1sP2lkeG5vPTI3ODA50gEA?hl=ko&gl=KR&ceid=KR%3Ako', 'https://news.google.com/articles/CBMiOGh0dHBzOi8vd3d3LmFpdGltZXMua3IvbmV3cy9hcnRpY2xlVmlldy5odG1sP2lkeG5vPTI3ODAw0gEA?hl=ko&gl=KR&ceid=KR%3Ako', 'https://news.google.com/articles/CBMiOGh0dHBzOi8vd3d3LmFpdGltZXMua3IvbmV3cy9hcnRpY2xlVmlldy5odG1sP2lkeG5vPTI3Nzkw0gEA?hl=ko&gl=KR&ceid=KR%3Ako', 'https://news.google.com/articles/CBMiN2h0dHBzOi8vd3d3LmVyb3VuLm5ldC9uZXdzL2FydGljbGVWaWV3Lmh0bWw_aWR4bm89MzE4MDHSAQA?hl=ko&gl=KR&ceid=KR%3Ako', 'https://news.google.com/articles/CBMiOmh0dHA6Ly93d3cuZHluZXdzLmNvLmtyL25ld3MvYXJ0aWNsZVZpZXcuaHRtbD9pZHhubz03MDEyNDDSAT1odHRwOi8vd3d3LmR5bmV3cy5jby5rci9uZXdzL2FydGljbGVWaWV3QW1wLmh0bWw_aWR4bm89NzAxMjQw?hl=ko&gl=KR&ceid=KR%3Ako', 'https://news.google.com/articles/CBMiOGh0dHBzOi8vd3d3LmFpdGltZXMua3IvbmV3cy9hcnRpY2xlVmlldy5odG1sP2lkeG5vPTI3Nzg10gEA?hl=ko&gl=KR&ceid=KR%3Ako', 'https://news.google.com/articles/CBMiO2h0dHA6Ly93d3cuaXJvYm90bmV3cy5jb20vbmV3cy9hcnRpY2xlVmlldy5odG1sP2lkeG5vPTMxMzU00gEA?hl=ko&gl=KR&ceid=KR%3Ako', 'https://news.google.com/articles/CBMiOGh0dHBzOi8vd3d3LmFpdGltZXMua3IvbmV3cy9hcnRpY2xlVmlldy5odG1sP2lkeG5vPTI3ODE20gE7aHR0cHM6Ly93d3cuYWl0aW1lcy5rci9uZXdzL2FydGljbGVWaWV3QW1wLmh0bWw_aWR4bm89Mjc4MTY?hl=ko&gl=KR&ceid=KR%3Ako', 'https://news.google.com/articles/CBMiPGh0dHBzOi8vd3d3LnluYS5jby5rci92aWV3L0FLUjIwMjMwNDE4MDk5OTAwMDAzP3NlY3Rpb249bmV3c9IBMWh0dHBzOi8vbS55bmEuY28ua3IvYW1wL3ZpZXcvQUtSMjAyMzA0MTgwOTk5MDAwMDM?hl=ko&gl=KR&ceid=KR%3Ako', 'https://news.google.com/articles/CBMiOmh0dHBzOi8vd3d3LmFpdGltZXMuY29tL25ld3MvYXJ0aWNsZVZpZXcuaHRtbD9pZHhubz0xNTA1OTbSAQA?hl=ko&gl=KR&ceid=KR%3Ako', 'https://news.google.com/articles/CBMiOGh0dHBzOi8vd3d3LmFpdGltZXMua3IvbmV3cy9hcnRpY2xlVmlldy5odG1sP2lkeG5vPTI3Nzk30gEA?hl=ko&gl=KR&ceid=KR%3Ako', 'https://news.google.com/articles/CBMiOGh0dHBzOi8vd3d3LmFpdGltZXMua3IvbmV3cy9hcnRpY2xlVmlldy5odG1sP2lkeG5vPTI3Nzg50gEA?hl=ko&gl=KR&ceid=KR%3Ako', 'https://news.google.com/articles/CBMiOmh0dHBzOi8vd3d3LmFpdGltZXMuY29tL25ld3MvYXJ0aWNsZVZpZXcuaHRtbD9pZHhubz0xNTA1NjTSAQA?hl=ko&gl=KR&ceid=KR%3Ako', 'https://news.google.com/articles/CBMi2gFodHRwczovL2RpdG9kYXkuY29tLyVFQyU5NyU5MCVFQyU5RCVCNCVFQiVCOCU5NCVFQiVBNiVBQy0lRUQlOUQlOTElRUMlOUUlOTAtJUVDJUEwJTg0JUVEJTk5JTk4LSVFQyU4NCVCMSVFQSVCMyVCNS0lRUMlQjklQjQlRUQlODUlOEMlRUElQjMlQTAlRUIlQTYlQUMtJUVEJTk5JTk1JUVDJTlFJUE1JUVBJUIzJUJDLSVFQyU5RCVCOCVFQSVCMyVCNSVFQyVBNyU4MCVFQiU4QSVBNWFpL9IBAA?hl=ko&gl=KR&ceid=KR%3Ako', 'https://news.google.com/articles/CBMiPmh0dHA6Ly93d3cuaW5jaGVvbmlsYm8uY29tL25ld3MvYXJ0aWNsZVZpZXcuaHRtbD9pZHhubz0xMTkwMzE20gEA?hl=ko&gl=KR&ceid=KR%3Ako', 'https://news.google.com/articles/CBMiOmh0dHBzOi8vd3d3LmFpdGltZXMuY29tL25ld3MvYXJ0aWNsZVZpZXcuaHRtbD9pZHhubz0xNTA1ODDSAQA?hl=ko&gl=KR&ceid=KR%3Ako', 'https://news.google.com/articles/CBMiPmh0dHA6Ly93d3cuZG9jdG9yc3RpbWVzLmNvbS9uZXdzL2FydGljbGVWaWV3Lmh0bWw_aWR4bm89MjIyNTI10gEA?hl=ko&gl=KR&ceid=KR%3Ako', 'https://news.google.com/articles/CBMiOGh0dHBzOi8vd3d3LmFpdGltZXMua3IvbmV3cy9hcnRpY2xlVmlldy5odG1sP2lkeG5vPTI3ODAz0gEA?hl=ko&gl=KR&ceid=KR%3Ako', 'https://news.google.com/articles/CBMiOGh0dHBzOi8vd3d3LmFpdGltZXMua3IvbmV3cy9hcnRpY2xlVmlldy5odG1sP2lkeG5vPTI3ODAx0gEA?hl=ko&gl=KR&ceid=KR%3Ako', 'https://news.google.com/articles/CBMiQWh0dHBzOi8vbW9iaWxlLm5ld3Npcy5jb20vdmlldy5odG1sP2FyX2lkPU5JU1gyMDIzMDQxN18wMDAyMjY5MjI20gFFaHR0cHM6Ly9tb2JpbGUubmV3c2lzLmNvbS92aWV3X2FtcC5odG1sP2FyX2lkPU5JU1gyMDIzMDQxN18wMDAyMjY5MjI2?hl=ko&gl=KR&ceid=KR%3Ako', 'https://news.google.com/articles/CBMiQGh0dHBzOi8vd3d3LmhhbmkuY28ua3IvYXJ0aS9zY2llbmNlL3NjaWVuY2VfZ2VuZXJhbC8xMDg3NTMzLmh0bWzSAQA?hl=ko&gl=KR&ceid=KR%3Ako', 'https://news.google.com/articles/CBMiNmh0dHBzOi8vd3d3LmFzaWFlLmNvLmtyL2FydGljbGUvSVQvMjAyMzA0MTgwOTUxMTMxODY1OdIBAA?hl=ko&gl=KR&ceid=KR%3Ako', 'https://news.google.com/articles/CBMiOGh0dHBzOi8vd3d3LmFpdGltZXMua3IvbmV3cy9hcnRpY2xlVmlldy5odG1sP2lkeG5vPTI3ODEy0gEA?hl=ko&gl=KR&ceid=KR%3Ako', 'https://news.google.com/articles/CBMiOGh0dHBzOi8vd3d3LmFpdGltZXMua3IvbmV3cy9hcnRpY2xlVmlldy5odG1sP2lkeG5vPTI3NzQ30gEA?hl=ko&gl=KR&ceid=KR%3Ako', 'https://news.google.com/articles/CBMiLWh0dHA6Ly93d3cubXRuZXdzLm5ldC9uZXdzL3ZpZXcucGhwP2lkeD0xNTkxNtIBAA?hl=ko&gl=KR&ceid=KR%3Ako', 'https://news.google.com/articles/CBMiOmh0dHBzOi8vd3d3LmFpdGltZXMuY29tL25ld3MvYXJ0aWNsZVZpZXcuaHRtbD9pZHhubz0xNTA1OTfSAQA?hl=ko&gl=KR&ceid=KR%3Ako', 'https://news.google.com/articles/CBMiOGh0dHBzOi8vd3d3LmFpdGltZXMua3IvbmV3cy9hcnRpY2xlVmlldy5odG1sP2lkeG5vPTI3ODA00gEA?hl=ko&gl=KR&ceid=KR%3Ako', 'https://news.google.com/articles/CBMiNmh0dHBzOi8vd3d3Lm0taS5rci9uZXdzL2FydGljbGVWaWV3Lmh0bWw_aWR4bm89MTAwNTc4N9IBAA?hl=ko&gl=KR&ceid=KR%3Ako', 'https://news.google.com/articles/CBMiO2h0dHA6Ly93d3cuaXJvYm90bmV3cy5jb20vbmV3cy9hcnRpY2xlVmlldy5odG1sP2lkeG5vPTMxMzUz0gEA?hl=ko&gl=KR&ceid=KR%3Ako', 'https://news.google.com/articles/CBMiPmh0dHBzOi8vd3d3LmtpaG9pbGJvLmNvLmtyL25ld3MvYXJ0aWNsZVZpZXcuaHRtbD9pZHhubz0xMDI2NDY00gEA?hl=ko&gl=KR&ceid=KR%3Ako', 'https://news.google.com/articles/CBMiOGh0dHBzOi8vd3d3LmFpdGltZXMua3IvbmV3cy9hcnRpY2xlVmlldy5odG1sP2lkeG5vPTI3ODE50gEA?hl=ko&gl=KR&ceid=KR%3Ako', 'https://news.google.com/articles/CBMiOGh0dHBzOi8vd3d3LmFpdGltZXMua3IvbmV3cy9hcnRpY2xlVmlldy5odG1sP2lkeG5vPTI3ODE40gEA?hl=ko&gl=KR&ceid=KR%3Ako', 'https://news.google.com/articles/CBMiOGh0dHBzOi8vd3d3LmFpdGltZXMua3IvbmV3cy9hcnRpY2xlVmlldy5odG1sP2lkeG5vPTI3NzQ00gEA?hl=ko&gl=KR&ceid=KR%3Ako', 'https://news.google.com/articles/CBMiOGh0dHBzOi8vd3d3LmFpdGltZXMua3IvbmV3cy9hcnRpY2xlVmlldy5odG1sP2lkeG5vPTI3Nzg00gEA?hl=ko&gl=KR&ceid=KR%3Ako', 'https://news.google.com/articles/CBMiK2h0dHBzOi8vd2Vla2x5LmRvbmdhLmNvbS8zL2FsbC8xMS80MDg4MjM5LzHSAQA?hl=ko&gl=KR&ceid=KR%3Ako', 'https://news.google.com/articles/CBMiUWh0dHBzOi8vYml6LmNob3N1bi5jb20vc3RvY2svc3RvY2tfZ2VuZXJhbC8yMDIzLzA0LzE4L0E3S0tVU1FLSkZFV1hKQlJUTEhORE5RNDdBL9IBYGh0dHBzOi8vYml6LmNob3N1bi5jb20vc3RvY2svc3RvY2tfZ2VuZXJhbC8yMDIzLzA0LzE4L0E3S0tVU1FLSkZFV1hKQlJUTEhORE5RNDdBLz9vdXRwdXRUeXBlPWFtcA?hl=ko&gl=KR&ceid=KR%3Ako', 'https://news.google.com/articles/CBMiOGh0dHBzOi8vd3d3LmFpdGltZXMua3IvbmV3cy9hcnRpY2xlVmlldy5odG1sP2lkeG5vPTI3Nzkx0gEA?hl=ko&gl=KR&ceid=KR%3Ako', 'https://news.google.com/articles/CBMiNmh0dHBzOi8vd3d3Lm1lZGlmb25ld3MuY29tL25ld3MvYXJ0aWNsZS5odG1sP25vPTE3NzczOdIBAA?hl=ko&gl=KR&ceid=KR%3Ako', 'https://news.google.com/articles/CBMiN2h0dHBzOi8vd3d3LmVyb3VuLm5ldC9uZXdzL2FydGljbGVWaWV3Lmh0bWw_aWR4bm89MzE3MzXSAQA?hl=ko&gl=KR&ceid=KR%3Ako', 'https://news.google.com/articles/CBMiMWh0dHA6Ly93d3cuYm9hbm5ld3MuY29tL21lZGlhL3ZpZXcuYXNwP2lkeD0xMTcwMTjSAQA?hl=ko&gl=KR&ceid=KR%3Ako', 'https://news.google.com/articles/CBMiOGh0dHBzOi8vd3d3LmFpdGltZXMua3IvbmV3cy9hcnRpY2xlVmlldy5odG1sP2lkeG5vPTI3NzUz0gEA?hl=ko&gl=KR&ceid=KR%3Ako', 'https://news.google.com/articles/CBMiNWh0dHBzOi8vbmV3cy5pbWFlaWwuY29tL3BhZ2Uvdmlldy8yMDIzMDQxODExNTE1MDk5MTY10gEA?hl=ko&gl=KR&ceid=KR%3Ako', 'https://news.google.com/articles/CBMiNWh0dHBzOi8vd3d3LmVrbi5rci93ZWIvdmlldy5waHA_a2V5PTIwMjMwNDE4MDEwMDA0NTIx0gEA?hl=ko&gl=KR&ceid=KR%3Ako', 'https://news.google.com/articles/CBMiN2h0dHBzOi8vd3d3LmVyb3VuLm5ldC9uZXdzL2FydGljbGVWaWV3Lmh0bWw_aWR4bm89MzE3NDPSAQA?hl=ko&gl=KR&ceid=KR%3Ako', 'https://news.google.com/articles/CBMiOGh0dHBzOi8vd3d3LmFpdGltZXMua3IvbmV3cy9hcnRpY2xlVmlldy5odG1sP2lkeG5vPTI3NzYw0gEA?hl=ko&gl=KR&ceid=KR%3Ako', 'https://news.google.com/articles/CBMiOGh0dHBzOi8vd3d3LmFpdGltZXMua3IvbmV3cy9hcnRpY2xlVmlldy5odG1sP2lkeG5vPTI3Nzcz0gEA?hl=ko&gl=KR&ceid=KR%3Ako', 'https://news.google.com/articles/CBMiOmh0dHBzOi8vd3d3LmFpdGltZXMuY29tL25ld3MvYXJ0aWNsZVZpZXcuaHRtbD9pZHhubz0xNTA1ODjSAQA?hl=ko&gl=KR&ceid=KR%3Ako', 'https://news.google.com/articles/CBMiJWh0dHBzOi8vd3d3LmV0bmV3cy5jb20vMjAyMzA0MTEwMDAwODbSAQA?hl=ko&gl=KR&ceid=KR%3Ako', 'https://news.google.com/articles/CBMiMWh0dHBzOi8vd3d3Lmt1a2luZXdzLmNvbS9uZXdzVmlldy9rdWsyMDIzMDQxODAwMzTSAQA?hl=ko&gl=KR&ceid=KR%3Ako', 'https://news.google.com/articles/CBMiOGh0dHBzOi8vd3d3LmFpdGltZXMua3IvbmV3cy9hcnRpY2xlVmlldy5odG1sP2lkeG5vPTI3Njc00gEA?hl=ko&gl=KR&ceid=KR%3Ako', 'https://news.google.com/articles/CBMiN2h0dHBzOi8vd3d3LmhhbmkuY28ua3IvYXJ0aS9vcGluaW9uL2NvbHVtbi8xMDg3Mjk3Lmh0bWzSAQA?hl=ko&gl=KR&ceid=KR%3Ako', 'https://news.google.com/articles/CBMiOGh0dHA6Ly93d3cuZ2dpbGJvLmNvbS9uZXdzL2FydGljbGVWaWV3Lmh0bWw_aWR4bm89OTcwNDE10gE7aHR0cDovL3d3dy5nZ2lsYm8uY29tL25ld3MvYXJ0aWNsZVZpZXdBbXAuaHRtbD9pZHhubz05NzA0MTU?hl=ko&gl=KR&ceid=KR%3Ako', 'https://news.google.com/articles/CBMiOGh0dHBzOi8vd3d3LmFpdGltZXMua3IvbmV3cy9hcnRpY2xlVmlldy5odG1sP2lkeG5vPTI3NzY10gEA?hl=ko&gl=KR&ceid=KR%3Ako', 'https://news.google.com/articles/CBMiOGh0dHBzOi8vd3d3LmFpdGltZXMua3IvbmV3cy9hcnRpY2xlVmlldy5odG1sP2lkeG5vPTI3NjQ30gEA?hl=ko&gl=KR&ceid=KR%3Ako', 'https://news.google.com/articles/CBMiOGh0dHBzOi8vd3d3LmFpdGltZXMua3IvbmV3cy9hcnRpY2xlVmlldy5odG1sP2lkeG5vPTI3NjA50gEA?hl=ko&gl=KR&ceid=KR%3Ako', 'https://news.google.com/articles/CBMiOGh0dHBzOi8vd3d3LmFpdGltZXMua3IvbmV3cy9hcnRpY2xlVmlldy5odG1sP2lkeG5vPTI3NzIy0gEA?hl=ko&gl=KR&ceid=KR%3Ako', 'https://news.google.com/articles/CBMihAFodHRwczovL3d3dy5zY2llbmNldGltZXMuY28ua3IvbmV3cy9haS0lRUElQjUlOTAlRUMlOUMlQTEtY2hhdC1ncHQtJUVDJTlEJUI0JUVEJTlCJTg0JUVCJUE1JUJDLSVFQyVBNCU4MCVFQiVCOSU4NCVFRCU5NSVCNCVFQyU5NSVCQy_SAQA?hl=ko&gl=KR&ceid=KR%3Ako', 'https://news.google.com/articles/CBMiOGh0dHBzOi8vd3d3LmFpdGltZXMua3IvbmV3cy9hcnRpY2xlVmlldy5odG1sP2lkeG5vPTI3NzA50gEA?hl=ko&gl=KR&ceid=KR%3Ako', 'https://news.google.com/articles/CBMiKmh0dHBzOi8vd3d3LmJyYWlubWVkaWEuY28ua3IvSW5zaWdodC8yMzM2N9IBAA?hl=ko&gl=KR&ceid=KR%3Ako', 'https://news.google.com/articles/CBMiNmh0dHBzOi8vd3d3LmhhbmkuY28ua3IvYXJ0aS9zb2NpZXR5L21lZGlhLzEwODQ2MTkuaHRtbNIBAA?hl=ko&gl=KR&ceid=KR%3Ako', 'https://news.google.com/articles/CBMiOGh0dHBzOi8vd3d3LmFpdGltZXMua3IvbmV3cy9hcnRpY2xlVmlldy5odG1sP2lkeG5vPTI3NzI50gEA?hl=ko&gl=KR&ceid=KR%3Ako', 'https://news.google.com/articles/CBMiOGh0dHBzOi8vd3d3LmFpdGltZXMua3IvbmV3cy9hcnRpY2xlVmlldy5odG1sP2lkeG5vPTI3NzMz0gEA?hl=ko&gl=KR&ceid=KR%3Ako', 'https://news.google.com/articles/CBMiOGh0dHBzOi8vd3d3LmFpdGltZXMua3IvbmV3cy9hcnRpY2xlVmlldy5odG1sP2lkeG5vPTI3NjI10gEA?hl=ko&gl=KR&ceid=KR%3Ako', 'https://news.google.com/articles/CBMiOGh0dHBzOi8vd3d3LmFpdGltZXMua3IvbmV3cy9hcnRpY2xlVmlldy5odG1sP2lkeG5vPTI3Njcw0gEA?hl=ko&gl=KR&ceid=KR%3Ako', 'https://news.google.com/articles/CBMiOmh0dHBzOi8vd3d3Lmhhbmtvb2tpbGJvLmNvbS9OZXdzL1JlYWQvQTIwMjMwNDA0MTA0NjAwMDU5MTXSAQA?hl=ko&gl=KR&ceid=KR%3Ako', 'https://news.google.com/articles/CBMiOGh0dHBzOi8vd3d3LmFpdGltZXMua3IvbmV3cy9hcnRpY2xlVmlldy5odG1sP2lkeG5vPTI3NjU00gEA?hl=ko&gl=KR&ceid=KR%3Ako', 'https://news.google.com/articles/CBMiJWh0dHBzOi8vd3d3Lml0d29ybGQuY28ua3IvbmV3cy8yODY0OTXSAQA?hl=ko&gl=KR&ceid=KR%3Ako', 'https://news.google.com/articles/CBMiIWh0dHBzOi8vd3NwYXBlci5vcmcvYXJ0aWNsZS8yOTEzOdIBAA?hl=ko&gl=KR&ceid=KR%3Ako', 'https://news.google.com/articles/CBMiOGh0dHBzOi8vd3d3LmFpdGltZXMua3IvbmV3cy9hcnRpY2xlVmlldy5odG1sP2lkeG5vPTI3Njcy0gEA?hl=ko&gl=KR&ceid=KR%3Ako']\n"
     ]
    }
   ],
   "source": [
    "# 3단계 엑셀에 저장하기\n",
    "\n",
    "titles = browser.find_elements(By.CLASS_NAME, 'ipQwMb')\n",
    "\n",
    "title_list = []\n",
    "for i in titles:\n",
    "    title_list.append(i.text)\n",
    "    \n",
    "title_list\n",
    "\n",
    "\n",
    "links = browser.find_elements(By.CLASS_NAME, 'VDXfz')  #links가 되는 순간 s가 붙는 순간 리스트가 된다.\n",
    "\n",
    "# for i in links:\n",
    "#     print(i.get_attribute('href'))\n",
    " \n",
    "link_list = []\n",
    "\n",
    "for i in links:\n",
    "    link_list.append(i.get_attribute('href')) # 얘는 속성이므로 get_attribute라는 것을 써서 가져온다. \n",
    "\n",
    "print(link_list)\n",
    "\n",
    "# company = browser.find_element(By.CLASS_NAME, 'lqNvvd').get_attribute('alt')\n",
    "# print(title, link, company)"
   ]
  },
  {
   "cell_type": "code",
   "execution_count": null,
   "metadata": {},
   "outputs": [],
   "source": [
    "# 4단계 슬랙에 전송하기 \n",
    "\n"
   ]
  },
  {
   "cell_type": "code",
   "execution_count": 42,
   "metadata": {},
   "outputs": [
    {
     "name": "stdout",
     "output_type": "stream",
     "text": [
      "Collecting slack-sdk\n",
      "  Downloading slack_sdk-3.21.1-py2.py3-none-any.whl (276 kB)\n",
      "     ---------------------------------------- 0.0/276.5 kB ? eta -:--:--\n",
      "     ------------------------------------- 276.5/276.5 kB 16.6 MB/s eta 0:00:00\n",
      "Installing collected packages: slack-sdk\n",
      "Successfully installed slack-sdk-3.21.1\n"
     ]
    },
    {
     "name": "stderr",
     "output_type": "stream",
     "text": [
      "\n",
      "[notice] A new release of pip is available: 23.0.1 -> 23.1\n",
      "[notice] To update, run: python.exe -m pip install --upgrade pip\n"
     ]
    }
   ],
   "source": [
    "!pip install slack-sdk\n"
   ]
  },
  {
   "attachments": {},
   "cell_type": "markdown",
   "metadata": {},
   "source": [
    "## 춘식이 이미지 가져오기\n",
    "\n",
    "\"파이썬 링크를 파일로 변경\" 구글에 검색\n",
    "이미지 다운로드 \n",
    "\n",
    "이미지 태그가 막혀있는 경우에는 save_screenshot로 찍어서 파일로 저장할 수 있다. "
   ]
  },
  {
   "cell_type": "code",
   "execution_count": 92,
   "metadata": {},
   "outputs": [],
   "source": [
    "url = 'https://e.kakao.com/search?q=%EC%B6%98%EC%8B%9D%EC%9D%B4'\n",
    "browser.get(url)"
   ]
  },
  {
   "cell_type": "code",
   "execution_count": 93,
   "metadata": {},
   "outputs": [
    {
     "data": {
      "text/plain": [
       "'https://item.kakaocdn.net/do/ba7b385fe153a05731fc831422d91973617ea012db208c18f6e83b1a90a7baa7'"
      ]
     },
     "execution_count": 93,
     "metadata": {},
     "output_type": "execute_result"
    }
   ],
   "source": [
    "# 단건에 성공\n",
    "browser.find_element(By.CLASS_NAME, 'img_default').get_attribute('src')\n"
   ]
  },
  {
   "cell_type": "code",
   "execution_count": 99,
   "metadata": {},
   "outputs": [],
   "source": [
    "imgs = browser.find_elements(By.CLASS_NAME, 'img_hover')\n",
    "# len(imgs) 개수 확인\n",
    "\n",
    "# for i in imgs:\n",
    "#     print(i.get_attribute('src'))\n",
    "\n",
    "img_list = []\n",
    "for i in imgs:\n",
    "    img_list.append(i.get_attribute('src'))\n",
    "    \n",
    "\n",
    "titles = browser.find_elements(By.CLASS_NAME, 'txt_tit')\n",
    "# print(len(titles))\n",
    "\n",
    "# for i in titles:\n",
    "#     print(i.text)\n",
    "title_list = []\n",
    "for i in titles:\n",
    "    title_list.append(i.text)\n",
    "    \n",
    "\n",
    "import urllib.request\n",
    "for i in range(10):\n",
    "    urllib.request.urlretrieve(img_list[i], title_list[i])\n",
    "    "
   ]
  },
  {
   "cell_type": "code",
   "execution_count": null,
   "metadata": {},
   "outputs": [],
   "source": [
    "# chatGPT 활용 _ 파이썬 이미지 링크를 이미지 파일로 변경하는 코드를 알려줘\n",
    "\n",
    "\n"
   ]
  }
 ],
 "metadata": {
  "kernelspec": {
   "display_name": "base",
   "language": "python",
   "name": "python3"
  },
  "language_info": {
   "codemirror_mode": {
    "name": "ipython",
    "version": 3
   },
   "file_extension": ".py",
   "mimetype": "text/x-python",
   "name": "python",
   "nbconvert_exporter": "python",
   "pygments_lexer": "ipython3",
   "version": "3.10.9"
  },
  "orig_nbformat": 4
 },
 "nbformat": 4,
 "nbformat_minor": 2
}
