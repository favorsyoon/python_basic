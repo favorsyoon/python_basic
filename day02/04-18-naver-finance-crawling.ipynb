{
 "cells": [
  {
   "attachments": {},
   "cell_type": "markdown",
   "metadata": {},
   "source": [
    "# 코스피 코스닥 시세 크롤링"
   ]
  },
  {
   "cell_type": "code",
   "execution_count": 1,
   "metadata": {},
   "outputs": [
    {
     "name": "stdout",
     "output_type": "stream",
     "text": [
      "Collecting selenium\n",
      "  Using cached selenium-4.8.3-py3-none-any.whl (6.5 MB)\n",
      "Collecting urllib3[socks]~=1.26\n",
      "  Using cached urllib3-1.26.15-py2.py3-none-any.whl (140 kB)\n",
      "Collecting trio~=0.17\n",
      "  Using cached trio-0.22.0-py3-none-any.whl (384 kB)\n",
      "Collecting trio-websocket~=0.9\n",
      "  Using cached trio_websocket-0.10.2-py3-none-any.whl (17 kB)\n",
      "Collecting certifi>=2021.10.8\n",
      "  Using cached certifi-2022.12.7-py3-none-any.whl (155 kB)\n",
      "Collecting attrs>=19.2.0\n",
      "  Using cached attrs-23.1.0-py3-none-any.whl (61 kB)\n",
      "Collecting sortedcontainers\n",
      "  Using cached sortedcontainers-2.4.0-py2.py3-none-any.whl (29 kB)\n",
      "Collecting async-generator>=1.9\n",
      "  Using cached async_generator-1.10-py3-none-any.whl (18 kB)\n",
      "Collecting idna\n",
      "  Using cached idna-3.4-py3-none-any.whl (61 kB)\n",
      "Collecting outcome\n",
      "  Using cached outcome-1.2.0-py2.py3-none-any.whl (9.7 kB)\n",
      "Collecting sniffio\n",
      "  Using cached sniffio-1.3.0-py3-none-any.whl (10 kB)\n",
      "Collecting cffi>=1.14\n",
      "  Downloading cffi-1.15.1-cp311-cp311-win_amd64.whl (179 kB)\n",
      "     ---------------------------------------- 179.0/179.0 kB ? eta 0:00:00\n",
      "Collecting exceptiongroup\n",
      "  Using cached exceptiongroup-1.1.1-py3-none-any.whl (14 kB)\n",
      "Collecting wsproto>=0.14\n",
      "  Using cached wsproto-1.2.0-py3-none-any.whl (24 kB)\n",
      "Collecting PySocks!=1.5.7,<2.0,>=1.5.6\n",
      "  Using cached PySocks-1.7.1-py3-none-any.whl (16 kB)\n",
      "Collecting pycparser\n",
      "  Using cached pycparser-2.21-py2.py3-none-any.whl (118 kB)\n",
      "Collecting h11<1,>=0.9.0\n",
      "  Using cached h11-0.14.0-py3-none-any.whl (58 kB)\n",
      "Installing collected packages: sortedcontainers, urllib3, sniffio, PySocks, pycparser, idna, h11, exceptiongroup, certifi, attrs, async-generator, wsproto, outcome, cffi, trio, trio-websocket, selenium\n",
      "Successfully installed PySocks-1.7.1 async-generator-1.10 attrs-23.1.0 certifi-2022.12.7 cffi-1.15.1 exceptiongroup-1.1.1 h11-0.14.0 idna-3.4 outcome-1.2.0 pycparser-2.21 selenium-4.8.3 sniffio-1.3.0 sortedcontainers-2.4.0 trio-0.22.0 trio-websocket-0.10.2 urllib3-1.26.15 wsproto-1.2.0\n",
      "4.8.3\n"
     ]
    },
    {
     "name": "stderr",
     "output_type": "stream",
     "text": [
      "\n",
      "[notice] A new release of pip available: 22.3.1 -> 23.1\n",
      "[notice] To update, run: python.exe -m pip install --upgrade pip\n"
     ]
    }
   ],
   "source": [
    "!pip install selenium\n",
    "import selenium\n",
    "print(selenium.__version__)\n",
    "\n",
    "import time #time.sleep()쓰기 위함 \n",
    "from selenium import webdriver  #webdriver 쓰기 위함 \n",
    "from selenium.webdriver.chrome.options import Options  #이 코드라인이 없으면, 에러가 나온다. \n",
    "\n",
    "# 크롬 옵션 headless 모드로 실행\n",
    "options = Options()\n",
    "options.add_argument('--headless')\n",
    "\n",
    "# 크롬 드라이버 경로 지정\n",
    "driver_path = 'chromedriver'\n",
    "\n",
    "# 크롬 드라이버 객체 생성\n",
    "driver = webdriver.Chrome(executable_path=driver_path, options=options)"
   ]
  },
  {
   "cell_type": "code",
   "execution_count": 3,
   "metadata": {},
   "outputs": [],
   "source": [
    "\n",
    " # 웹페이지 요청 네이버 날씨 \n",
    "url = 'https://finance.naver.com//'\n",
    "driver.get(url)\n",
    "time.sleep(2)\n",
    "from selenium.webdriver.common.by import By\n"
   ]
  },
  {
   "cell_type": "code",
   "execution_count": 5,
   "metadata": {},
   "outputs": [
    {
     "name": "stdout",
     "output_type": "stream",
     "text": [
      "2,571.09 4.82\n",
      "-\n",
      "0.19%\n",
      "하락\n"
     ]
    }
   ],
   "source": [
    "#공통 class num_quot\n",
    "\n",
    "\n",
    "kospi = driver.find_element(By.CLASS_NAME, 'num_quot').text\n",
    "print(kospi)"
   ]
  },
  {
   "cell_type": "code",
   "execution_count": 17,
   "metadata": {},
   "outputs": [
    {
     "name": "stdout",
     "output_type": "stream",
     "text": [
      "[<selenium.webdriver.remote.webelement.WebElement (session=\"c22a4d07518085803589b0fa267db3c0\", element=\"50598066-6091-413e-bd8a-b563fff8eedd\")>, <selenium.webdriver.remote.webelement.WebElement (session=\"c22a4d07518085803589b0fa267db3c0\", element=\"370517b1-2006-48a3-a71c-f677ef73a8ef\")>, <selenium.webdriver.remote.webelement.WebElement (session=\"c22a4d07518085803589b0fa267db3c0\", element=\"6f8ad2c1-d9d6-4d68-8abc-4594d1d5587a\")>]\n",
      "2,571.09 4.82\n",
      "-\n",
      "0.19%\n",
      "하락 \n",
      "\n",
      "909.02 0.48\n",
      "-\n",
      "0.05%\n",
      "하락 \n",
      "\n",
      "333.50 0.42\n",
      "-\n",
      "0.13%\n",
      "하락 \n",
      "\n"
     ]
    }
   ],
   "source": [
    "\n",
    "stock_list = driver.find_elements(By.CLASS_NAME, 'num_quot')\n",
    "\n",
    "print(stock_list)\n",
    "\n",
    "\n",
    "for stock_price  in stock_list:\n",
    "    print(stock_price.text, '\\n')\n",
    "\n"
   ]
  },
  {
   "cell_type": "code",
   "execution_count": 20,
   "metadata": {},
   "outputs": [
    {
     "name": "stdout",
     "output_type": "stream",
     "text": [
      "['2,571.09', '4.82\\n-\\n0.19%\\n하락'] \n",
      "\n",
      "['909.02', '0.48\\n-\\n0.05%\\n하락'] \n",
      "\n",
      "['333.50', '0.42\\n-\\n0.13%\\n하락'] \n",
      "\n"
     ]
    }
   ],
   "source": [
    "for stock_price in stock_list:\n",
    "    price = stock_price.text.split(' ')\n",
    "    print(price, '\\n')"
   ]
  },
  {
   "cell_type": "code",
   "execution_count": 22,
   "metadata": {},
   "outputs": [
    {
     "name": "stdout",
     "output_type": "stream",
     "text": [
      "2,571.09 \n",
      "\n",
      "909.02 \n",
      "\n",
      "333.50 \n",
      "\n"
     ]
    }
   ],
   "source": [
    "for stock_price in stock_list:\n",
    "    price = stock_price.text.split(' ')[0]\n",
    "    print(price, '\\n')"
   ]
  },
  {
   "attachments": {},
   "cell_type": "markdown",
   "metadata": {},
   "source": [
    "# 당일 TOP 종목 크롤링"
   ]
  },
  {
   "cell_type": "code",
   "execution_count": 27,
   "metadata": {},
   "outputs": [],
   "source": [
    " # 웹페이지 요청 네이버 증권\n",
    "url = 'https://finance.naver.com//'\n",
    "driver.get(url)\n",
    "time.sleep(2)\n",
    "from selenium.webdriver.common.by import By\n"
   ]
  },
  {
   "cell_type": "code",
   "execution_count": null,
   "metadata": {},
   "outputs": [],
   "source": [
    "<tbody id=\"_topItems2\"> \n",
    "           <tr class=\"up\"><th><a href=\"/item/main.naver?code=000760\" onclick=\"clickcr(this, &quot;spe.clist&quot;, &quot;000760&quot;, &quot;1&quot;, event);\">이화산업</a></th><td>19,890</td><td><em class=\"bu_p bu_pup2\"><span class=\"blind\">상한가</span></em> 4,590</td><td>+30.00%</td></tr> \n",
    "           <tr class=\"up\"><th><a href=\"/item/main.naver?code=118000\" onclick=\"clickcr(this, &quot;spe.clist&quot;, &quot;118000&quot;, &quot;2&quot;, event);\">더메디팜</a></th><td>737</td><td><em class=\"bu_p bu_pup2\"><span class=\"blind\">상한가</span></em> 170</td><td>+29.98%</td></tr> \n",
    "           <tr class=\"up\"><th><a href=\"/item/main.naver?code=054220\" onclick=\"clickcr(this, &quot;spe.clist&quot;, &quot;054220&quot;, &quot;3&quot;, event);\">비츠로시스</a></th><td>1,370</td><td><em class=\"bu_p bu_pup2\"><span class=\"blind\">상한가</span></em> 316</td><td>+29.98%</td></tr> \n",
    "           <tr class=\"up\"><th><a href=\"/item/main.naver?code=024810\" onclick=\"clickcr(this, &quot;spe.clist&quot;, &quot;024810&quot;, &quot;4&quot;, event);\">이화전기</a></th><td>1,535</td><td><em class=\"bu_p bu_pup2\"><span class=\"blind\">상한가</span></em> 354</td><td>+29.97%</td></tr> \n",
    "           <tr class=\"up\"><th><a href=\"/item/main.naver?code=010580\" onclick=\"clickcr(this, &quot;spe.clist&quot;, &quot;010580&quot;, &quot;5&quot;, event);\">에스엠벡셀</a></th><td>3,925</td><td><em class=\"bu_p bu_pup2\"><span class=\"blind\">상한가</span></em> 905</td><td>+29.97%</td></tr> \n",
    "           <tr class=\"up\"><th><a href=\"/item/main.naver?code=067370\" onclick=\"clickcr(this, &quot;spe.clist&quot;, &quot;067370&quot;, &quot;6&quot;, event);\">선바이오</a></th><td>17,090</td><td><em class=\"bu_p bu_pup2\"><span class=\"blind\">상한가</span></em> 3,940</td><td>+29.96%</td></tr> \n",
    "           <tr class=\"up\"><th><a href=\"/item/main.naver?code=277880\" onclick=\"clickcr(this, &quot;spe.clist&quot;, &quot;277880&quot;, &quot;7&quot;, event);\">티에스아이</a></th><td>15,580</td><td><em class=\"bu_p bu_pup2\"><span class=\"blind\">상한가</span></em> 3,590</td><td>+29.94%</td></tr> \n",
    "           <tr class=\"up\"><th><a href=\"/item/main.naver?code=131400\" onclick=\"clickcr(this, &quot;spe.clist&quot;, &quot;131400&quot;, &quot;8&quot;, event);\">이브이첨단소재</a></th><td>13,760</td><td><em class=\"bu_p bu_pup2\"><span class=\"blind\">상한가</span></em> 3,170</td><td>+29.93%</td></tr> \n",
    "           <tr class=\"up\"><th><a href=\"/item/main.naver?code=900250\" onclick=\"clickcr(this, &quot;spe.clist&quot;, &quot;900250&quot;, &quot;9&quot;, event);\">크리스탈신소재</a></th><td>2,025</td><td><em class=\"bu_p bu_pup2\"><span class=\"blind\">상한가</span></em> 466</td><td>+29.89%</td></tr> \n",
    "           <tr class=\"up\"><th><a href=\"/item/main.naver?code=131100\" onclick=\"clickcr(this, &quot;spe.clist&quot;, &quot;131100&quot;, &quot;10&quot;, event);\">초록뱀이앤엠</a></th><td>3,520</td><td><em class=\"bu_p bu_pup2\"><span class=\"blind\">상한가</span></em> 810</td><td>+29.89%</td></tr> \n",
    "           <tr class=\"up\"><th><a href=\"/item/main.naver?code=012860\" onclick=\"clickcr(this, &quot;spe.clist&quot;, &quot;012860&quot;, &quot;11&quot;, event);\">모베이스전자</a></th><td>2,415</td><td><em class=\"bu_p bu_pup2\"><span class=\"blind\">상한가</span></em> 555</td><td>+29.84%</td></tr> \n",
    "           <tr class=\"up\"><th><a href=\"/item/main.naver?code=340930\" onclick=\"clickcr(this, &quot;spe.clist&quot;, &quot;340930&quot;, &quot;12&quot;, event);\">유일에너테크</a></th><td>25,200</td><td><em class=\"bu_p bu_pup2\"><span class=\"blind\">상한가</span></em> 5,790</td><td>+29.83%</td></tr> \n",
    "           <tr class=\"up\"><th><a href=\"/item/main.naver?code=145210\" onclick=\"clickcr(this, &quot;spe.clist&quot;, &quot;145210&quot;, &quot;13&quot;, event);\">다이나믹디자인</a></th><td>12,220</td><td><em class=\"bu_p bu_pup\"><span class=\"blind\">상승</span></em> 2,710</td><td>+28.50%</td></tr> \n",
    "           <tr class=\"up\"><th><a href=\"/item/main.naver?code=005160\" onclick=\"clickcr(this, &quot;spe.clist&quot;, &quot;005160&quot;, &quot;14&quot;, event);\">동국산업</a></th><td>10,750</td><td><em class=\"bu_p bu_pup\"><span class=\"blind\">상승</span></em> 2,160</td><td>+25.15%</td></tr> \n",
    "           <tr class=\"up\"><th><a href=\"/item/main.naver?code=000480\" onclick=\"clickcr(this, &quot;spe.clist&quot;, &quot;000480&quot;, &quot;15&quot;, event);\">조선내화</a></th><td>10,370</td><td><em class=\"bu_p bu_pup\"><span class=\"blind\">상승</span></em> 1,940</td><td>+23.01%</td></tr> \n",
    "</tbody>"
   ]
  },
  {
   "cell_type": "code",
   "execution_count": null,
   "metadata": {},
   "outputs": [],
   "source": [
    "<li class=\"tab2\"><a href=\"#\" onclick=\"clickcr(this, 'spe.ceiling', '', '', event);return false;\"><span>상승</span></a></li>"
   ]
  },
  {
   "cell_type": "code",
   "execution_count": null,
   "metadata": {},
   "outputs": [],
   "source": [
    "<table class=\"tbl_home\"> \n",
    "          <caption>\n",
    "           상승 TOP 종목\n",
    "           <span>종목명에 대한 현재가, 전일대비, 등락률로 구분되어 있습니다.</span>\n",
    "          </caption> \n",
    "          <colgroup> \n",
    "           <col width=\"40%\"> \n",
    "           <col> \n",
    "          </colgroup> \n",
    "          <thead> \n",
    "           <tr> \n",
    "            <th scope=\"col\">종목명</th> \n",
    "            <th scope=\"col\">현재가</th> \n",
    "            <th scope=\"col\">전일대비</th> \n",
    "            <th scope=\"col\">등락률</th> \n",
    "           </tr> \n",
    "          </thead> \n",
    "          <tbody id=\"_topItems2\"> \n",
    "           <tr class=\"up\"><th><a href=\"/item/main.naver?code=000760\" onclick=\"clickcr(this, &quot;spe.clist&quot;, &quot;000760&quot;, &quot;1&quot;, event);\">이화산업</a></th><td>19,890</td><td><em class=\"bu_p bu_pup2\"><span class=\"blind\">상한가</span></em> 4,590</td><td>+30.00%</td></tr> \n",
    "           <tr class=\"up\"><th><a href=\"/item/main.naver?code=118000\" onclick=\"clickcr(this, &quot;spe.clist&quot;, &quot;118000&quot;, &quot;2&quot;, event);\">더메디팜</a></th><td>737</td><td><em class=\"bu_p bu_pup2\"><span class=\"blind\">상한가</span></em> 170</td><td>+29.98%</td></tr> \n",
    "           <tr class=\"up\"><th><a href=\"/item/main.naver?code=054220\" onclick=\"clickcr(this, &quot;spe.clist&quot;, &quot;054220&quot;, &quot;3&quot;, event);\">비츠로시스</a></th><td>1,370</td><td><em class=\"bu_p bu_pup2\"><span class=\"blind\">상한가</span></em> 316</td><td>+29.98%</td></tr> \n",
    "           <tr class=\"up\"><th><a href=\"/item/main.naver?code=024810\" onclick=\"clickcr(this, &quot;spe.clist&quot;, &quot;024810&quot;, &quot;4&quot;, event);\">이화전기</a></th><td>1,535</td><td><em class=\"bu_p bu_pup2\"><span class=\"blind\">상한가</span></em> 354</td><td>+29.97%</td></tr> \n",
    "           <tr class=\"up\"><th><a href=\"/item/main.naver?code=010580\" onclick=\"clickcr(this, &quot;spe.clist&quot;, &quot;010580&quot;, &quot;5&quot;, event);\">에스엠벡셀</a></th><td>3,925</td><td><em class=\"bu_p bu_pup2\"><span class=\"blind\">상한가</span></em> 905</td><td>+29.97%</td></tr> \n",
    "           <tr class=\"up\"><th><a href=\"/item/main.naver?code=067370\" onclick=\"clickcr(this, &quot;spe.clist&quot;, &quot;067370&quot;, &quot;6&quot;, event);\">선바이오</a></th><td>17,090</td><td><em class=\"bu_p bu_pup2\"><span class=\"blind\">상한가</span></em> 3,940</td><td>+29.96%</td></tr> \n",
    "           <tr class=\"up\"><th><a href=\"/item/main.naver?code=277880\" onclick=\"clickcr(this, &quot;spe.clist&quot;, &quot;277880&quot;, &quot;7&quot;, event);\">티에스아이</a></th><td>15,580</td><td><em class=\"bu_p bu_pup2\"><span class=\"blind\">상한가</span></em> 3,590</td><td>+29.94%</td></tr> \n",
    "           <tr class=\"up\"><th><a href=\"/item/main.naver?code=131400\" onclick=\"clickcr(this, &quot;spe.clist&quot;, &quot;131400&quot;, &quot;8&quot;, event);\">이브이첨단소재</a></th><td>13,760</td><td><em class=\"bu_p bu_pup2\"><span class=\"blind\">상한가</span></em> 3,170</td><td>+29.93%</td></tr> \n",
    "           <tr class=\"up\"><th><a href=\"/item/main.naver?code=900250\" onclick=\"clickcr(this, &quot;spe.clist&quot;, &quot;900250&quot;, &quot;9&quot;, event);\">크리스탈신소재</a></th><td>2,025</td><td><em class=\"bu_p bu_pup2\"><span class=\"blind\">상한가</span></em> 466</td><td>+29.89%</td></tr> \n",
    "           <tr class=\"up\"><th><a href=\"/item/main.naver?code=131100\" onclick=\"clickcr(this, &quot;spe.clist&quot;, &quot;131100&quot;, &quot;10&quot;, event);\">초록뱀이앤엠</a></th><td>3,520</td><td><em class=\"bu_p bu_pup2\"><span class=\"blind\">상한가</span></em> 810</td><td>+29.89%</td></tr> \n",
    "           <tr class=\"up\"><th><a href=\"/item/main.naver?code=012860\" onclick=\"clickcr(this, &quot;spe.clist&quot;, &quot;012860&quot;, &quot;11&quot;, event);\">모베이스전자</a></th><td>2,415</td><td><em class=\"bu_p bu_pup2\"><span class=\"blind\">상한가</span></em> 555</td><td>+29.84%</td></tr> \n",
    "           <tr class=\"up\"><th><a href=\"/item/main.naver?code=340930\" onclick=\"clickcr(this, &quot;spe.clist&quot;, &quot;340930&quot;, &quot;12&quot;, event);\">유일에너테크</a></th><td>25,200</td><td><em class=\"bu_p bu_pup2\"><span class=\"blind\">상한가</span></em> 5,790</td><td>+29.83%</td></tr> \n",
    "           <tr class=\"up\"><th><a href=\"/item/main.naver?code=145210\" onclick=\"clickcr(this, &quot;spe.clist&quot;, &quot;145210&quot;, &quot;13&quot;, event);\">다이나믹디자인</a></th><td>12,220</td><td><em class=\"bu_p bu_pup\"><span class=\"blind\">상승</span></em> 2,710</td><td>+28.50%</td></tr> \n",
    "           <tr class=\"up\"><th><a href=\"/item/main.naver?code=005160\" onclick=\"clickcr(this, &quot;spe.clist&quot;, &quot;005160&quot;, &quot;14&quot;, event);\">동국산업</a></th><td>10,750</td><td><em class=\"bu_p bu_pup\"><span class=\"blind\">상승</span></em> 2,160</td><td>+25.15%</td></tr> \n",
    "           <tr class=\"up\"><th><a href=\"/item/main.naver?code=000480\" onclick=\"clickcr(this, &quot;spe.clist&quot;, &quot;000480&quot;, &quot;15&quot;, event);\">조선내화</a></th><td>10,370</td><td><em class=\"bu_p bu_pup\"><span class=\"blind\">상승</span></em> 1,940</td><td>+23.01%</td></tr> \n",
    "          </tbody> \n",
    "         </table>"
   ]
  },
  {
   "cell_type": "code",
   "execution_count": 77,
   "metadata": {},
   "outputs": [
    {
     "name": "stdout",
     "output_type": "stream",
     "text": [
      "[]\n"
     ]
    }
   ],
   "source": [
    "# Web page request Naver Securities\n",
    "url = 'https://finance.naver.com//'\n",
    "driver.get(url)\n",
    "time.sleep(2)\n",
    "from selenium.webdriver.common.by import By\n",
    "\n",
    "\n",
    "#상승 탭을 클릭하는 코드\n",
    "button = driver.find_element(By.CLASS_NAME, 'tab2')                             \n",
    "button.click()\n",
    "time.sleep(2)\n",
    "\n",
    "table = driver.find_element(By.CLASS_NAME, 'tbl_home')\n",
    "headers = table.find_elements(By.TAG_NAME, 'th')\n",
    "\n",
    "data = []\n",
    "rows = table.find_elements(By.TAG_NAME, 'tr')\n",
    "for row in rows:\n",
    "    cols = row.find_elements(By.TAG_NAME, 'td')\n",
    "    if len(cols) == 4:\n",
    "        item_name = row.find_element(By.TAG_NAME, 'th').text\n",
    "        current_price = cols[0].text\n",
    "        compared_to_prev_day = cols[1].text\n",
    "        fluctuation_rate = cols[2].text\n",
    "        data.append([item_name, current_price, compared_to_prev_day, fluctuation_rate])\n",
    "print(data)\n",
    "\n",
    "\n",
    "\n",
    "# # Get the table containing the data\n",
    "# table = driver.find_element(By.CLASS_NAME, 'tbl_home')\n",
    "# print(table)\n",
    "\n",
    "# # Get all rows in the table\n",
    "# rows = table.find_elements(By.TAG_NAME, 'tr')\n",
    "\n",
    "# # Create a list to store the data\n",
    "# data = []\n",
    "\n",
    "# # Loop through each row and extract the data\n",
    "# for row in rows:\n",
    "#     # Get all cells in the row\n",
    "#     cells = row.find_elements(By.TAG_NAME, 'td')\n",
    "\n",
    "#     # Extract the text from each cell and store in a list\n",
    "#     row_data = [cell.text for cell in cells]\n",
    "\n",
    "#     # Add the row data to the overall data\n",
    "#     data.append(row_data)\n",
    "\n",
    "# # Remove the header row from the data\n",
    "# header_row = data[0]\n",
    "# data = data[1:]\n",
    "\n",
    "# # Print the header row and data\n",
    "# print(header_row)\n",
    "# print(data)\n",
    "\n",
    "\n",
    "\n",
    "# table = driver.find_element(By.ID, '_topItems2')\n",
    "# rows = table.find_elements(By.CSS_SELECTOR, 'tr')\n",
    "\n",
    "# for row in rows:\n",
    "#     columns = row.find_elements(By.TAG_NAME, 'td')\n",
    "#     data = []\n",
    "#     for column in columns:\n",
    "#         data.append(column.text)\n",
    "#     print(data)"
   ]
  }
 ],
 "metadata": {
  "kernelspec": {
   "display_name": "Python 3",
   "language": "python",
   "name": "python3"
  },
  "language_info": {
   "codemirror_mode": {
    "name": "ipython",
    "version": 3
   },
   "file_extension": ".py",
   "mimetype": "text/x-python",
   "name": "python",
   "nbconvert_exporter": "python",
   "pygments_lexer": "ipython3",
   "version": "3.11.3"
  },
  "orig_nbformat": 4
 },
 "nbformat": 4,
 "nbformat_minor": 2
}
