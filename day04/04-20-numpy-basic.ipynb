{
 "cells": [
  {
   "attachments": {},
   "cell_type": "markdown",
   "metadata": {},
   "source": [
    "# Numpy"
   ]
  },
  {
   "cell_type": "code",
   "execution_count": 1,
   "metadata": {},
   "outputs": [
    {
     "name": "stdout",
     "output_type": "stream",
     "text": [
      "Requirement already satisfied: numpy in c:\\users\\enter\\miniconda3\\lib\\site-packages (1.24.2)\n",
      "Note: you may need to restart the kernel to use updated packages.\n"
     ]
    }
   ],
   "source": [
    "pip install numpy"
   ]
  },
  {
   "cell_type": "code",
   "execution_count": 2,
   "metadata": {},
   "outputs": [],
   "source": [
    "import numpy as np"
   ]
  },
  {
   "attachments": {},
   "cell_type": "markdown",
   "metadata": {},
   "source": [
    "### Numpy - 기초"
   ]
  },
  {
   "cell_type": "code",
   "execution_count": 6,
   "metadata": {},
   "outputs": [
    {
     "data": {
      "text/plain": [
       "1"
      ]
     },
     "execution_count": 6,
     "metadata": {},
     "output_type": "execute_result"
    }
   ],
   "source": [
    "arr1 = np.array([1,2,3]) #1차원 행렬\n",
    "\n",
    "arr1.shape #(3,)\n",
    "arr1.dtype #dtype('int32')\n",
    "arr1.ndim #1"
   ]
  },
  {
   "cell_type": "code",
   "execution_count": 16,
   "metadata": {},
   "outputs": [
    {
     "name": "stdout",
     "output_type": "stream",
     "text": [
      "[[1 2 3]\n",
      " [1 2 3]] \n",
      "\n",
      "(2, 3) \n",
      "\n",
      "2 \n",
      "\n"
     ]
    }
   ],
   "source": [
    "arr2 = np.array([[1,2,3],[1,2,3]])  # 2차원 배열\n",
    "\n",
    "print(arr2, '\\n') \n",
    "print(arr2.shape, '\\n') # (2,3) => 2행 3열인 2차원 배열이다.\n",
    "print(arr2.ndim)  # 2 => 2차원"
   ]
  },
  {
   "cell_type": "code",
   "execution_count": null,
   "metadata": {},
   "outputs": [],
   "source": [
    "list3 = [ [ [1,2,3] ] ] # list\n",
    "\n",
    "arr3 = np.array(list3) # nparray\n",
    "\n",
    "arr3\n",
    "arr3.ndim # 3 => 3차원\n",
    "arr3.dtype\n",
    "arr3.shape # (1,1,3)\n",
    "\n",
    "# 컴퓨터는 => 0과 1만 이해할 수 있다. -> 나중에 데이터도 숫자형 데이터로 바꿔주셔야 합니다."
   ]
  },
  {
   "cell_type": "code",
   "execution_count": 18,
   "metadata": {},
   "outputs": [
    {
     "data": {
      "text/plain": [
       "array(['1', '2', 'c'], dtype='<U11')"
      ]
     },
     "execution_count": 18,
     "metadata": {},
     "output_type": "execute_result"
    }
   ],
   "source": [
    "list2 = [1,2,'c']\n",
    "\n",
    "arr4 = np.array(list2)\n",
    "arr4"
   ]
  },
  {
   "cell_type": "code",
   "execution_count": 35,
   "metadata": {},
   "outputs": [
    {
     "name": "stdout",
     "output_type": "stream",
     "text": [
      "[1. 2. 3. 4. 5.]\n"
     ]
    },
    {
     "data": {
      "text/plain": [
       "dtype('float64')"
      ]
     },
     "execution_count": 35,
     "metadata": {},
     "output_type": "execute_result"
    }
   ],
   "source": [
    "arr = np.array([\"1\", \"2\", \"3\", \"4\", \"5\"])\n",
    "arr.dtype\n",
    "\n",
    "# final_arr = arr.astype(np.int64)\n",
    "# final_arr = arr.astype('int64')\n",
    "final_arr = arr.astype('float')\n",
    "print(final_arr)\n",
    "final_arr.dtype"
   ]
  },
  {
   "attachments": {},
   "cell_type": "markdown",
   "metadata": {},
   "source": [
    "# ndarray"
   ]
  },
  {
   "cell_type": "code",
   "execution_count": 22,
   "metadata": {},
   "outputs": [
    {
     "name": "stdout",
     "output_type": "stream",
     "text": [
      "[0 1 2 3 4 5 6 7 8 9]\n",
      "[0 1 2 3 4 5]\n"
     ]
    }
   ],
   "source": [
    "arr = np.arange(10)\n",
    "print(arr)\n",
    "\n",
    "arr2=arr[0:6]\n",
    "print(arr2)\n",
    "\n",
    "#indexing\n",
    "arr3=arr[-1]"
   ]
  },
  {
   "attachments": {},
   "cell_type": "markdown",
   "metadata": {},
   "source": [
    "# reshape() - 차원과 크기 변경 "
   ]
  },
  {
   "cell_type": "code",
   "execution_count": 30,
   "metadata": {},
   "outputs": [
    {
     "name": "stdout",
     "output_type": "stream",
     "text": [
      "[0 1 2 3 4 5 6 7 8 9] \n",
      "\n",
      "[[0 1 2 3 4]\n",
      " [5 6 7 8 9]] \n",
      "\n",
      "[[0 1]\n",
      " [2 3]\n",
      " [4 5]\n",
      " [6 7]\n",
      " [8 9]] \n",
      "\n",
      "[[0 1 2 3 4]\n",
      " [5 6 7 8 9]]\n"
     ]
    },
    {
     "ename": "ValueError",
     "evalue": "cannot reshape array of size 10 into shape (3,newaxis)",
     "output_type": "error",
     "traceback": [
      "\u001b[1;31m---------------------------------------------------------------------------\u001b[0m",
      "\u001b[1;31mValueError\u001b[0m                                Traceback (most recent call last)",
      "Cell \u001b[1;32mIn[30], line 17\u001b[0m\n\u001b[0;32m     14\u001b[0m arr4 \u001b[39m=\u001b[39m arr1\u001b[39m.\u001b[39mreshape(\u001b[39m2\u001b[39m,\u001b[39m-\u001b[39m\u001b[39m1\u001b[39m) \u001b[39m#2행 5열\u001b[39;00m\n\u001b[0;32m     15\u001b[0m \u001b[39mprint\u001b[39m(arr4)\n\u001b[1;32m---> 17\u001b[0m arr5 \u001b[39m=\u001b[39m arr1\u001b[39m.\u001b[39;49mreshape(\u001b[39m3\u001b[39;49m,\u001b[39m-\u001b[39;49m\u001b[39m1\u001b[39;49m)\n",
      "\u001b[1;31mValueError\u001b[0m: cannot reshape array of size 10 into shape (3,newaxis)"
     ]
    }
   ],
   "source": [
    "arr1 = np.arange(10)\n",
    "print(arr1, '\\n')\n",
    "\n",
    "arr2 = arr1.reshape(2,5)\n",
    "print(arr2,'\\n')\n",
    "\n",
    "arr3 = arr1.reshape(5,2)\n",
    "print(arr3, '\\n')\n",
    "\n",
    "# arr4 = arr1.reshape(3,4) \n",
    "#ValueError: cannot reshape array of size 10 into shape (3,4)\n",
    "#최소 12개가 필요해서 3행 4열은 오류가 나는 것이다. \n",
    "\n",
    "arr4 = arr1.reshape(2,-1) #2행 5열\n",
    "print(arr4)\n",
    "\n",
    "# arr5 = arr1.reshape(3,-1) \n",
    "# ValueError: cannot reshape array of size 10 into shape (3,newaxis)\n"
   ]
  },
  {
   "cell_type": "code",
   "execution_count": 33,
   "metadata": {},
   "outputs": [
    {
     "data": {
      "text/plain": [
       "array([[0, 1, 2, 3],\n",
       "       [4, 5, 6, 7]])"
      ]
     },
     "execution_count": 33,
     "metadata": {},
     "output_type": "execute_result"
    }
   ],
   "source": [
    "arr = np.arange(8)\n",
    "arr\n",
    "\n",
    "arr2 = arr.reshape(-1,4)\n",
    "arr2 #행은 너가 마음대로 하고, 4열로 만들어줘 "
   ]
  },
  {
   "cell_type": "code",
   "execution_count": null,
   "metadata": {},
   "outputs": [],
   "source": [
    "arr = np.arange(1,10)\n",
    "\n",
    "arr2 = arr.reshape(3,3)\n",
    "print(arr2)\n",
    "\n",
    "arr2[1, 1] # 5\n",
    "arr2[2,2] # 9\n",
    "\n",
    "# arr2[0, 0:3] # [1,2,3]\n",
    "arr2[1, 0:3] # [4,5,6]\n",
    "\n",
    "# [3,6,9]\n",
    "arr2[:, 2]\n",
    "\n",
    "# [[1]\n",
    "#  [4]]\n",
    "\n",
    "arr3 = arr2[:2, :1]\n",
    "arr3"
   ]
  }
 ],
 "metadata": {
  "kernelspec": {
   "display_name": "base",
   "language": "python",
   "name": "python3"
  },
  "language_info": {
   "codemirror_mode": {
    "name": "ipython",
    "version": 3
   },
   "file_extension": ".py",
   "mimetype": "text/x-python",
   "name": "python",
   "nbconvert_exporter": "python",
   "pygments_lexer": "ipython3",
   "version": "3.10.9"
  },
  "orig_nbformat": 4
 },
 "nbformat": 4,
 "nbformat_minor": 2
}
